{
  "nbformat": 4,
  "nbformat_minor": 0,
  "metadata": {
    "colab": {
      "provenance": [],
      "authorship_tag": "ABX9TyOBUYEYjITEMIWhHuM22Gom",
      "include_colab_link": true
    },
    "kernelspec": {
      "name": "python3",
      "display_name": "Python 3"
    },
    "language_info": {
      "name": "python"
    }
  },
  "cells": [
    {
      "cell_type": "markdown",
      "metadata": {
        "id": "view-in-github",
        "colab_type": "text"
      },
      "source": [
        "<a href=\"https://colab.research.google.com/github/Lyshen/PiggyToy/blob/main/Lesson03_CNN_practice.ipynb\" target=\"_parent\"><img src=\"https://colab.research.google.com/assets/colab-badge.svg\" alt=\"Open In Colab\"/></a>"
      ]
    },
    {
      "cell_type": "markdown",
      "source": [
        "#Lesson 3. Simple CNN excerise\n",
        "## 1. Improve lesson 2's code\n",
        "## 2. Save the usually-used code\n",
        "## 3. Try to implement your simple CNN using the MNIST dataset\n",
        "## 4. Compare the results between CNN and DNN\n",
        "## 5. Maybe it is slow. Try to improve the speed of the SGD\n"
      ],
      "metadata": {
        "id": "ue3P3ienwgSy"
      }
    },
    {
      "cell_type": "code",
      "source": [],
      "metadata": {
        "id": "yEfz8rBGwhMF"
      },
      "execution_count": null,
      "outputs": []
    }
  ]
}