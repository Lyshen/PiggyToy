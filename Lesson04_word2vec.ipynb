{
  "nbformat": 4,
  "nbformat_minor": 0,
  "metadata": {
    "colab": {
      "provenance": [],
      "authorship_tag": "ABX9TyOSfqRkQIDRwMePWcfZNM6O",
      "include_colab_link": true
    },
    "kernelspec": {
      "name": "python3",
      "display_name": "Python 3"
    },
    "language_info": {
      "name": "python"
    },
    "widgets": {
      "application/vnd.jupyter.widget-state+json": {
        "c481b46a9d9b40b99e71dad9ae167dff": {
          "model_module": "@jupyter-widgets/controls",
          "model_name": "HBoxModel",
          "model_module_version": "1.5.0",
          "state": {
            "_dom_classes": [],
            "_model_module": "@jupyter-widgets/controls",
            "_model_module_version": "1.5.0",
            "_model_name": "HBoxModel",
            "_view_count": null,
            "_view_module": "@jupyter-widgets/controls",
            "_view_module_version": "1.5.0",
            "_view_name": "HBoxView",
            "box_style": "",
            "children": [
              "IPY_MODEL_548f26e285df47159ce45604b22e14b7",
              "IPY_MODEL_6ea072e1dbaf48da8b69bb5657f82c70",
              "IPY_MODEL_b6c3553e3dbb43cea3303ee8994d7eea"
            ],
            "layout": "IPY_MODEL_09d504ae55e444cca94725bb08f846a1"
          }
        },
        "548f26e285df47159ce45604b22e14b7": {
          "model_module": "@jupyter-widgets/controls",
          "model_name": "HTMLModel",
          "model_module_version": "1.5.0",
          "state": {
            "_dom_classes": [],
            "_model_module": "@jupyter-widgets/controls",
            "_model_module_version": "1.5.0",
            "_model_name": "HTMLModel",
            "_view_count": null,
            "_view_module": "@jupyter-widgets/controls",
            "_view_module_version": "1.5.0",
            "_view_name": "HTMLView",
            "description": "",
            "description_tooltip": null,
            "layout": "IPY_MODEL_555b021fede1419e9982a80a0158c72d",
            "placeholder": "​",
            "style": "IPY_MODEL_29f191f136b9412d9b70012bd37c94d2",
            "value": "Downloading: 100%"
          }
        },
        "6ea072e1dbaf48da8b69bb5657f82c70": {
          "model_module": "@jupyter-widgets/controls",
          "model_name": "FloatProgressModel",
          "model_module_version": "1.5.0",
          "state": {
            "_dom_classes": [],
            "_model_module": "@jupyter-widgets/controls",
            "_model_module_version": "1.5.0",
            "_model_name": "FloatProgressModel",
            "_view_count": null,
            "_view_module": "@jupyter-widgets/controls",
            "_view_module_version": "1.5.0",
            "_view_name": "ProgressView",
            "bar_style": "success",
            "description": "",
            "description_tooltip": null,
            "layout": "IPY_MODEL_4e15deb4744f49509b1ff91b88782f1b",
            "max": 1660,
            "min": 0,
            "orientation": "horizontal",
            "style": "IPY_MODEL_f95aaff6beea4aeaa3de804febc61cf2",
            "value": 1660
          }
        },
        "b6c3553e3dbb43cea3303ee8994d7eea": {
          "model_module": "@jupyter-widgets/controls",
          "model_name": "HTMLModel",
          "model_module_version": "1.5.0",
          "state": {
            "_dom_classes": [],
            "_model_module": "@jupyter-widgets/controls",
            "_model_module_version": "1.5.0",
            "_model_name": "HTMLModel",
            "_view_count": null,
            "_view_module": "@jupyter-widgets/controls",
            "_view_module_version": "1.5.0",
            "_view_name": "HTMLView",
            "description": "",
            "description_tooltip": null,
            "layout": "IPY_MODEL_e7f33ecb97514c139c3723f7a5673b4a",
            "placeholder": "​",
            "style": "IPY_MODEL_2990bbf6386d4f009c259805b0a0d1ae",
            "value": " 1.66k/1.66k [00:00&lt;00:00, 49.9kB/s]"
          }
        },
        "09d504ae55e444cca94725bb08f846a1": {
          "model_module": "@jupyter-widgets/base",
          "model_name": "LayoutModel",
          "model_module_version": "1.2.0",
          "state": {
            "_model_module": "@jupyter-widgets/base",
            "_model_module_version": "1.2.0",
            "_model_name": "LayoutModel",
            "_view_count": null,
            "_view_module": "@jupyter-widgets/base",
            "_view_module_version": "1.2.0",
            "_view_name": "LayoutView",
            "align_content": null,
            "align_items": null,
            "align_self": null,
            "border": null,
            "bottom": null,
            "display": null,
            "flex": null,
            "flex_flow": null,
            "grid_area": null,
            "grid_auto_columns": null,
            "grid_auto_flow": null,
            "grid_auto_rows": null,
            "grid_column": null,
            "grid_gap": null,
            "grid_row": null,
            "grid_template_areas": null,
            "grid_template_columns": null,
            "grid_template_rows": null,
            "height": null,
            "justify_content": null,
            "justify_items": null,
            "left": null,
            "margin": null,
            "max_height": null,
            "max_width": null,
            "min_height": null,
            "min_width": null,
            "object_fit": null,
            "object_position": null,
            "order": null,
            "overflow": null,
            "overflow_x": null,
            "overflow_y": null,
            "padding": null,
            "right": null,
            "top": null,
            "visibility": null,
            "width": null
          }
        },
        "555b021fede1419e9982a80a0158c72d": {
          "model_module": "@jupyter-widgets/base",
          "model_name": "LayoutModel",
          "model_module_version": "1.2.0",
          "state": {
            "_model_module": "@jupyter-widgets/base",
            "_model_module_version": "1.2.0",
            "_model_name": "LayoutModel",
            "_view_count": null,
            "_view_module": "@jupyter-widgets/base",
            "_view_module_version": "1.2.0",
            "_view_name": "LayoutView",
            "align_content": null,
            "align_items": null,
            "align_self": null,
            "border": null,
            "bottom": null,
            "display": null,
            "flex": null,
            "flex_flow": null,
            "grid_area": null,
            "grid_auto_columns": null,
            "grid_auto_flow": null,
            "grid_auto_rows": null,
            "grid_column": null,
            "grid_gap": null,
            "grid_row": null,
            "grid_template_areas": null,
            "grid_template_columns": null,
            "grid_template_rows": null,
            "height": null,
            "justify_content": null,
            "justify_items": null,
            "left": null,
            "margin": null,
            "max_height": null,
            "max_width": null,
            "min_height": null,
            "min_width": null,
            "object_fit": null,
            "object_position": null,
            "order": null,
            "overflow": null,
            "overflow_x": null,
            "overflow_y": null,
            "padding": null,
            "right": null,
            "top": null,
            "visibility": null,
            "width": null
          }
        },
        "29f191f136b9412d9b70012bd37c94d2": {
          "model_module": "@jupyter-widgets/controls",
          "model_name": "DescriptionStyleModel",
          "model_module_version": "1.5.0",
          "state": {
            "_model_module": "@jupyter-widgets/controls",
            "_model_module_version": "1.5.0",
            "_model_name": "DescriptionStyleModel",
            "_view_count": null,
            "_view_module": "@jupyter-widgets/base",
            "_view_module_version": "1.2.0",
            "_view_name": "StyleView",
            "description_width": ""
          }
        },
        "4e15deb4744f49509b1ff91b88782f1b": {
          "model_module": "@jupyter-widgets/base",
          "model_name": "LayoutModel",
          "model_module_version": "1.2.0",
          "state": {
            "_model_module": "@jupyter-widgets/base",
            "_model_module_version": "1.2.0",
            "_model_name": "LayoutModel",
            "_view_count": null,
            "_view_module": "@jupyter-widgets/base",
            "_view_module_version": "1.2.0",
            "_view_name": "LayoutView",
            "align_content": null,
            "align_items": null,
            "align_self": null,
            "border": null,
            "bottom": null,
            "display": null,
            "flex": null,
            "flex_flow": null,
            "grid_area": null,
            "grid_auto_columns": null,
            "grid_auto_flow": null,
            "grid_auto_rows": null,
            "grid_column": null,
            "grid_gap": null,
            "grid_row": null,
            "grid_template_areas": null,
            "grid_template_columns": null,
            "grid_template_rows": null,
            "height": null,
            "justify_content": null,
            "justify_items": null,
            "left": null,
            "margin": null,
            "max_height": null,
            "max_width": null,
            "min_height": null,
            "min_width": null,
            "object_fit": null,
            "object_position": null,
            "order": null,
            "overflow": null,
            "overflow_x": null,
            "overflow_y": null,
            "padding": null,
            "right": null,
            "top": null,
            "visibility": null,
            "width": null
          }
        },
        "f95aaff6beea4aeaa3de804febc61cf2": {
          "model_module": "@jupyter-widgets/controls",
          "model_name": "ProgressStyleModel",
          "model_module_version": "1.5.0",
          "state": {
            "_model_module": "@jupyter-widgets/controls",
            "_model_module_version": "1.5.0",
            "_model_name": "ProgressStyleModel",
            "_view_count": null,
            "_view_module": "@jupyter-widgets/base",
            "_view_module_version": "1.2.0",
            "_view_name": "StyleView",
            "bar_color": null,
            "description_width": ""
          }
        },
        "e7f33ecb97514c139c3723f7a5673b4a": {
          "model_module": "@jupyter-widgets/base",
          "model_name": "LayoutModel",
          "model_module_version": "1.2.0",
          "state": {
            "_model_module": "@jupyter-widgets/base",
            "_model_module_version": "1.2.0",
            "_model_name": "LayoutModel",
            "_view_count": null,
            "_view_module": "@jupyter-widgets/base",
            "_view_module_version": "1.2.0",
            "_view_name": "LayoutView",
            "align_content": null,
            "align_items": null,
            "align_self": null,
            "border": null,
            "bottom": null,
            "display": null,
            "flex": null,
            "flex_flow": null,
            "grid_area": null,
            "grid_auto_columns": null,
            "grid_auto_flow": null,
            "grid_auto_rows": null,
            "grid_column": null,
            "grid_gap": null,
            "grid_row": null,
            "grid_template_areas": null,
            "grid_template_columns": null,
            "grid_template_rows": null,
            "height": null,
            "justify_content": null,
            "justify_items": null,
            "left": null,
            "margin": null,
            "max_height": null,
            "max_width": null,
            "min_height": null,
            "min_width": null,
            "object_fit": null,
            "object_position": null,
            "order": null,
            "overflow": null,
            "overflow_x": null,
            "overflow_y": null,
            "padding": null,
            "right": null,
            "top": null,
            "visibility": null,
            "width": null
          }
        },
        "2990bbf6386d4f009c259805b0a0d1ae": {
          "model_module": "@jupyter-widgets/controls",
          "model_name": "DescriptionStyleModel",
          "model_module_version": "1.5.0",
          "state": {
            "_model_module": "@jupyter-widgets/controls",
            "_model_module_version": "1.5.0",
            "_model_name": "DescriptionStyleModel",
            "_view_count": null,
            "_view_module": "@jupyter-widgets/base",
            "_view_module_version": "1.2.0",
            "_view_name": "StyleView",
            "description_width": ""
          }
        },
        "d8117cb90b954fafb32067f684724343": {
          "model_module": "@jupyter-widgets/controls",
          "model_name": "HBoxModel",
          "model_module_version": "1.5.0",
          "state": {
            "_dom_classes": [],
            "_model_module": "@jupyter-widgets/controls",
            "_model_module_version": "1.5.0",
            "_model_name": "HBoxModel",
            "_view_count": null,
            "_view_module": "@jupyter-widgets/controls",
            "_view_module_version": "1.5.0",
            "_view_name": "HBoxView",
            "box_style": "",
            "children": [
              "IPY_MODEL_bf92184b52bc4cdaa3d57810e75c69da",
              "IPY_MODEL_3ced179444e6431f847e79b233a045ad",
              "IPY_MODEL_65c26078d7144249a7c7d7a9028cf502"
            ],
            "layout": "IPY_MODEL_da44000420264dfc8fecffbb935c82c2"
          }
        },
        "bf92184b52bc4cdaa3d57810e75c69da": {
          "model_module": "@jupyter-widgets/controls",
          "model_name": "HTMLModel",
          "model_module_version": "1.5.0",
          "state": {
            "_dom_classes": [],
            "_model_module": "@jupyter-widgets/controls",
            "_model_module_version": "1.5.0",
            "_model_name": "HTMLModel",
            "_view_count": null,
            "_view_module": "@jupyter-widgets/controls",
            "_view_module_version": "1.5.0",
            "_view_name": "HTMLView",
            "description": "",
            "description_tooltip": null,
            "layout": "IPY_MODEL_8e673c8c4b6843e18cf3646676effc75",
            "placeholder": "​",
            "style": "IPY_MODEL_f070b0ba30d741088833ff216b681042",
            "value": "Downloading: 100%"
          }
        },
        "3ced179444e6431f847e79b233a045ad": {
          "model_module": "@jupyter-widgets/controls",
          "model_name": "FloatProgressModel",
          "model_module_version": "1.5.0",
          "state": {
            "_dom_classes": [],
            "_model_module": "@jupyter-widgets/controls",
            "_model_module_version": "1.5.0",
            "_model_name": "FloatProgressModel",
            "_view_count": null,
            "_view_module": "@jupyter-widgets/controls",
            "_view_module_version": "1.5.0",
            "_view_name": "ProgressView",
            "bar_style": "success",
            "description": "",
            "description_tooltip": null,
            "layout": "IPY_MODEL_a5b268b1dd9247258ca67bee35eff474",
            "max": 235072360,
            "min": 0,
            "orientation": "horizontal",
            "style": "IPY_MODEL_f3aa6c546f6648c1bf2d63cdc86253a1",
            "value": 235072360
          }
        },
        "65c26078d7144249a7c7d7a9028cf502": {
          "model_module": "@jupyter-widgets/controls",
          "model_name": "HTMLModel",
          "model_module_version": "1.5.0",
          "state": {
            "_dom_classes": [],
            "_model_module": "@jupyter-widgets/controls",
            "_model_module_version": "1.5.0",
            "_model_name": "HTMLModel",
            "_view_count": null,
            "_view_module": "@jupyter-widgets/controls",
            "_view_module_version": "1.5.0",
            "_view_name": "HTMLView",
            "description": "",
            "description_tooltip": null,
            "layout": "IPY_MODEL_d389b27688ea45bfaa191aae2bd587e8",
            "placeholder": "​",
            "style": "IPY_MODEL_a76ba274bdba41a580682a063a5b7285",
            "value": " 235M/235M [00:06&lt;00:00, 47.6MB/s]"
          }
        },
        "da44000420264dfc8fecffbb935c82c2": {
          "model_module": "@jupyter-widgets/base",
          "model_name": "LayoutModel",
          "model_module_version": "1.2.0",
          "state": {
            "_model_module": "@jupyter-widgets/base",
            "_model_module_version": "1.2.0",
            "_model_name": "LayoutModel",
            "_view_count": null,
            "_view_module": "@jupyter-widgets/base",
            "_view_module_version": "1.2.0",
            "_view_name": "LayoutView",
            "align_content": null,
            "align_items": null,
            "align_self": null,
            "border": null,
            "bottom": null,
            "display": null,
            "flex": null,
            "flex_flow": null,
            "grid_area": null,
            "grid_auto_columns": null,
            "grid_auto_flow": null,
            "grid_auto_rows": null,
            "grid_column": null,
            "grid_gap": null,
            "grid_row": null,
            "grid_template_areas": null,
            "grid_template_columns": null,
            "grid_template_rows": null,
            "height": null,
            "justify_content": null,
            "justify_items": null,
            "left": null,
            "margin": null,
            "max_height": null,
            "max_width": null,
            "min_height": null,
            "min_width": null,
            "object_fit": null,
            "object_position": null,
            "order": null,
            "overflow": null,
            "overflow_x": null,
            "overflow_y": null,
            "padding": null,
            "right": null,
            "top": null,
            "visibility": null,
            "width": null
          }
        },
        "8e673c8c4b6843e18cf3646676effc75": {
          "model_module": "@jupyter-widgets/base",
          "model_name": "LayoutModel",
          "model_module_version": "1.2.0",
          "state": {
            "_model_module": "@jupyter-widgets/base",
            "_model_module_version": "1.2.0",
            "_model_name": "LayoutModel",
            "_view_count": null,
            "_view_module": "@jupyter-widgets/base",
            "_view_module_version": "1.2.0",
            "_view_name": "LayoutView",
            "align_content": null,
            "align_items": null,
            "align_self": null,
            "border": null,
            "bottom": null,
            "display": null,
            "flex": null,
            "flex_flow": null,
            "grid_area": null,
            "grid_auto_columns": null,
            "grid_auto_flow": null,
            "grid_auto_rows": null,
            "grid_column": null,
            "grid_gap": null,
            "grid_row": null,
            "grid_template_areas": null,
            "grid_template_columns": null,
            "grid_template_rows": null,
            "height": null,
            "justify_content": null,
            "justify_items": null,
            "left": null,
            "margin": null,
            "max_height": null,
            "max_width": null,
            "min_height": null,
            "min_width": null,
            "object_fit": null,
            "object_position": null,
            "order": null,
            "overflow": null,
            "overflow_x": null,
            "overflow_y": null,
            "padding": null,
            "right": null,
            "top": null,
            "visibility": null,
            "width": null
          }
        },
        "f070b0ba30d741088833ff216b681042": {
          "model_module": "@jupyter-widgets/controls",
          "model_name": "DescriptionStyleModel",
          "model_module_version": "1.5.0",
          "state": {
            "_model_module": "@jupyter-widgets/controls",
            "_model_module_version": "1.5.0",
            "_model_name": "DescriptionStyleModel",
            "_view_count": null,
            "_view_module": "@jupyter-widgets/base",
            "_view_module_version": "1.2.0",
            "_view_name": "StyleView",
            "description_width": ""
          }
        },
        "a5b268b1dd9247258ca67bee35eff474": {
          "model_module": "@jupyter-widgets/base",
          "model_name": "LayoutModel",
          "model_module_version": "1.2.0",
          "state": {
            "_model_module": "@jupyter-widgets/base",
            "_model_module_version": "1.2.0",
            "_model_name": "LayoutModel",
            "_view_count": null,
            "_view_module": "@jupyter-widgets/base",
            "_view_module_version": "1.2.0",
            "_view_name": "LayoutView",
            "align_content": null,
            "align_items": null,
            "align_self": null,
            "border": null,
            "bottom": null,
            "display": null,
            "flex": null,
            "flex_flow": null,
            "grid_area": null,
            "grid_auto_columns": null,
            "grid_auto_flow": null,
            "grid_auto_rows": null,
            "grid_column": null,
            "grid_gap": null,
            "grid_row": null,
            "grid_template_areas": null,
            "grid_template_columns": null,
            "grid_template_rows": null,
            "height": null,
            "justify_content": null,
            "justify_items": null,
            "left": null,
            "margin": null,
            "max_height": null,
            "max_width": null,
            "min_height": null,
            "min_width": null,
            "object_fit": null,
            "object_position": null,
            "order": null,
            "overflow": null,
            "overflow_x": null,
            "overflow_y": null,
            "padding": null,
            "right": null,
            "top": null,
            "visibility": null,
            "width": null
          }
        },
        "f3aa6c546f6648c1bf2d63cdc86253a1": {
          "model_module": "@jupyter-widgets/controls",
          "model_name": "ProgressStyleModel",
          "model_module_version": "1.5.0",
          "state": {
            "_model_module": "@jupyter-widgets/controls",
            "_model_module_version": "1.5.0",
            "_model_name": "ProgressStyleModel",
            "_view_count": null,
            "_view_module": "@jupyter-widgets/base",
            "_view_module_version": "1.2.0",
            "_view_name": "StyleView",
            "bar_color": null,
            "description_width": ""
          }
        },
        "d389b27688ea45bfaa191aae2bd587e8": {
          "model_module": "@jupyter-widgets/base",
          "model_name": "LayoutModel",
          "model_module_version": "1.2.0",
          "state": {
            "_model_module": "@jupyter-widgets/base",
            "_model_module_version": "1.2.0",
            "_model_name": "LayoutModel",
            "_view_count": null,
            "_view_module": "@jupyter-widgets/base",
            "_view_module_version": "1.2.0",
            "_view_name": "LayoutView",
            "align_content": null,
            "align_items": null,
            "align_self": null,
            "border": null,
            "bottom": null,
            "display": null,
            "flex": null,
            "flex_flow": null,
            "grid_area": null,
            "grid_auto_columns": null,
            "grid_auto_flow": null,
            "grid_auto_rows": null,
            "grid_column": null,
            "grid_gap": null,
            "grid_row": null,
            "grid_template_areas": null,
            "grid_template_columns": null,
            "grid_template_rows": null,
            "height": null,
            "justify_content": null,
            "justify_items": null,
            "left": null,
            "margin": null,
            "max_height": null,
            "max_width": null,
            "min_height": null,
            "min_width": null,
            "object_fit": null,
            "object_position": null,
            "order": null,
            "overflow": null,
            "overflow_x": null,
            "overflow_y": null,
            "padding": null,
            "right": null,
            "top": null,
            "visibility": null,
            "width": null
          }
        },
        "a76ba274bdba41a580682a063a5b7285": {
          "model_module": "@jupyter-widgets/controls",
          "model_name": "DescriptionStyleModel",
          "model_module_version": "1.5.0",
          "state": {
            "_model_module": "@jupyter-widgets/controls",
            "_model_module_version": "1.5.0",
            "_model_name": "DescriptionStyleModel",
            "_view_count": null,
            "_view_module": "@jupyter-widgets/base",
            "_view_module_version": "1.2.0",
            "_view_name": "StyleView",
            "description_width": ""
          }
        }
      }
    }
  },
  "cells": [
    {
      "cell_type": "markdown",
      "metadata": {
        "id": "view-in-github",
        "colab_type": "text"
      },
      "source": [
        "<a href=\"https://colab.research.google.com/github/Lyshen/PiggyToy/blob/main/Lesson04_word2vec.ipynb\" target=\"_parent\"><img src=\"https://colab.research.google.com/assets/colab-badge.svg\" alt=\"Open In Colab\"/></a>"
      ]
    },
    {
      "cell_type": "markdown",
      "source": [
        "#Lesson-4 Self implement of Word2Vec\n",
        "## Try to use wiki dataset to implement a word2vec process\n",
        "## 1. Learn to use Hugging Face tool and dataset\n",
        "## 2. Explore wikipedia dataset\n",
        "## 3. Write your own word2vec implement"
      ],
      "metadata": {
        "id": "RxlWR-euacTp"
      }
    },
    {
      "cell_type": "code",
      "source": [
        "# Install dataset\n",
        "!pip install datasets\n",
        "!pip install apache-beam"
      ],
      "metadata": {
        "colab": {
          "base_uri": "https://localhost:8080/",
          "height": 1000
        },
        "id": "Sr1KiB-aa5Gy",
        "outputId": "0b324b03-dd82-4f53-816b-995182a9a9a2"
      },
      "execution_count": 6,
      "outputs": [
        {
          "output_type": "stream",
          "name": "stdout",
          "text": [
            "Looking in indexes: https://pypi.org/simple, https://us-python.pkg.dev/colab-wheels/public/simple/\n",
            "Requirement already satisfied: datasets in /usr/local/lib/python3.10/dist-packages (2.13.0)\n",
            "Requirement already satisfied: numpy>=1.17 in /usr/local/lib/python3.10/dist-packages (from datasets) (1.22.4)\n",
            "Requirement already satisfied: pyarrow>=8.0.0 in /usr/local/lib/python3.10/dist-packages (from datasets) (9.0.0)\n",
            "Requirement already satisfied: dill<0.3.7,>=0.3.0 in /usr/local/lib/python3.10/dist-packages (from datasets) (0.3.6)\n",
            "Requirement already satisfied: pandas in /usr/local/lib/python3.10/dist-packages (from datasets) (1.5.3)\n",
            "Requirement already satisfied: requests>=2.19.0 in /usr/local/lib/python3.10/dist-packages (from datasets) (2.27.1)\n",
            "Requirement already satisfied: tqdm>=4.62.1 in /usr/local/lib/python3.10/dist-packages (from datasets) (4.65.0)\n",
            "Requirement already satisfied: xxhash in /usr/local/lib/python3.10/dist-packages (from datasets) (3.2.0)\n",
            "Requirement already satisfied: multiprocess in /usr/local/lib/python3.10/dist-packages (from datasets) (0.70.14)\n",
            "Requirement already satisfied: fsspec[http]>=2021.11.1 in /usr/local/lib/python3.10/dist-packages (from datasets) (2023.4.0)\n",
            "Requirement already satisfied: aiohttp in /usr/local/lib/python3.10/dist-packages (from datasets) (3.8.4)\n",
            "Requirement already satisfied: huggingface-hub<1.0.0,>=0.11.0 in /usr/local/lib/python3.10/dist-packages (from datasets) (0.15.1)\n",
            "Requirement already satisfied: packaging in /usr/local/lib/python3.10/dist-packages (from datasets) (23.1)\n",
            "Requirement already satisfied: pyyaml>=5.1 in /usr/local/lib/python3.10/dist-packages (from datasets) (6.0)\n",
            "Requirement already satisfied: attrs>=17.3.0 in /usr/local/lib/python3.10/dist-packages (from aiohttp->datasets) (23.1.0)\n",
            "Requirement already satisfied: charset-normalizer<4.0,>=2.0 in /usr/local/lib/python3.10/dist-packages (from aiohttp->datasets) (2.0.12)\n",
            "Requirement already satisfied: multidict<7.0,>=4.5 in /usr/local/lib/python3.10/dist-packages (from aiohttp->datasets) (6.0.4)\n",
            "Requirement already satisfied: async-timeout<5.0,>=4.0.0a3 in /usr/local/lib/python3.10/dist-packages (from aiohttp->datasets) (4.0.2)\n",
            "Requirement already satisfied: yarl<2.0,>=1.0 in /usr/local/lib/python3.10/dist-packages (from aiohttp->datasets) (1.9.2)\n",
            "Requirement already satisfied: frozenlist>=1.1.1 in /usr/local/lib/python3.10/dist-packages (from aiohttp->datasets) (1.3.3)\n",
            "Requirement already satisfied: aiosignal>=1.1.2 in /usr/local/lib/python3.10/dist-packages (from aiohttp->datasets) (1.3.1)\n",
            "Requirement already satisfied: filelock in /usr/local/lib/python3.10/dist-packages (from huggingface-hub<1.0.0,>=0.11.0->datasets) (3.12.0)\n",
            "Requirement already satisfied: typing-extensions>=3.7.4.3 in /usr/local/lib/python3.10/dist-packages (from huggingface-hub<1.0.0,>=0.11.0->datasets) (4.5.0)\n",
            "Requirement already satisfied: urllib3<1.27,>=1.21.1 in /usr/local/lib/python3.10/dist-packages (from requests>=2.19.0->datasets) (1.26.15)\n",
            "Requirement already satisfied: certifi>=2017.4.17 in /usr/local/lib/python3.10/dist-packages (from requests>=2.19.0->datasets) (2022.12.7)\n",
            "Requirement already satisfied: idna<4,>=2.5 in /usr/local/lib/python3.10/dist-packages (from requests>=2.19.0->datasets) (3.4)\n",
            "Requirement already satisfied: python-dateutil>=2.8.1 in /usr/local/lib/python3.10/dist-packages (from pandas->datasets) (2.8.2)\n",
            "Requirement already satisfied: pytz>=2020.1 in /usr/local/lib/python3.10/dist-packages (from pandas->datasets) (2022.7.1)\n",
            "Requirement already satisfied: six>=1.5 in /usr/local/lib/python3.10/dist-packages (from python-dateutil>=2.8.1->pandas->datasets) (1.16.0)\n",
            "Looking in indexes: https://pypi.org/simple, https://us-python.pkg.dev/colab-wheels/public/simple/\n",
            "Collecting apache-beam\n",
            "  Downloading apache_beam-2.48.0-cp310-cp310-manylinux_2_17_x86_64.manylinux2014_x86_64.whl (14.3 MB)\n",
            "\u001b[2K     \u001b[90m━━━━━━━━━━━━━━━━━━━━━━━━━━━━━━━━━━━━━━━\u001b[0m \u001b[32m14.3/14.3 MB\u001b[0m \u001b[31m110.2 MB/s\u001b[0m eta \u001b[36m0:00:00\u001b[0m\n",
            "\u001b[?25hCollecting crcmod<2.0,>=1.7 (from apache-beam)\n",
            "  Downloading crcmod-1.7.tar.gz (89 kB)\n",
            "\u001b[2K     \u001b[90m━━━━━━━━━━━━━━━━━━━━━━━━━━━━━━━━━━━━━━━━\u001b[0m \u001b[32m89.7/89.7 kB\u001b[0m \u001b[31m11.1 MB/s\u001b[0m eta \u001b[36m0:00:00\u001b[0m\n",
            "\u001b[?25h  Preparing metadata (setup.py) ... \u001b[?25l\u001b[?25hdone\n",
            "Collecting orjson<4.0 (from apache-beam)\n",
            "  Downloading orjson-3.9.1-cp310-cp310-manylinux_2_17_x86_64.manylinux2014_x86_64.whl (136 kB)\n",
            "\u001b[2K     \u001b[90m━━━━━━━━━━━━━━━━━━━━━━━━━━━━━━━━━━━━━━\u001b[0m \u001b[32m137.0/137.0 kB\u001b[0m \u001b[31m14.7 MB/s\u001b[0m eta \u001b[36m0:00:00\u001b[0m\n",
            "\u001b[?25hCollecting dill<0.3.2,>=0.3.1.1 (from apache-beam)\n",
            "  Downloading dill-0.3.1.1.tar.gz (151 kB)\n",
            "\u001b[2K     \u001b[90m━━━━━━━━━━━━━━━━━━━━━━━━━━━━━━━━━━━━━━\u001b[0m \u001b[32m152.0/152.0 kB\u001b[0m \u001b[31m14.7 MB/s\u001b[0m eta \u001b[36m0:00:00\u001b[0m\n",
            "\u001b[?25h  Preparing metadata (setup.py) ... \u001b[?25l\u001b[?25hdone\n",
            "Requirement already satisfied: cloudpickle~=2.2.1 in /usr/local/lib/python3.10/dist-packages (from apache-beam) (2.2.1)\n",
            "Collecting fastavro<2,>=0.23.6 (from apache-beam)\n",
            "  Downloading fastavro-1.7.4-cp310-cp310-manylinux_2_17_x86_64.manylinux2014_x86_64.whl (2.6 MB)\n",
            "\u001b[2K     \u001b[90m━━━━━━━━━━━━━━━━━━━━━━━━━━━━━━━━━━━━━━━━\u001b[0m \u001b[32m2.6/2.6 MB\u001b[0m \u001b[31m113.0 MB/s\u001b[0m eta \u001b[36m0:00:00\u001b[0m\n",
            "\u001b[?25hCollecting fasteners<1.0,>=0.3 (from apache-beam)\n",
            "  Downloading fasteners-0.18-py3-none-any.whl (18 kB)\n",
            "Requirement already satisfied: grpcio!=1.48.0,<2,>=1.33.1 in /usr/local/lib/python3.10/dist-packages (from apache-beam) (1.54.0)\n",
            "Collecting hdfs<3.0.0,>=2.1.0 (from apache-beam)\n",
            "  Downloading hdfs-2.7.0-py3-none-any.whl (34 kB)\n",
            "Requirement already satisfied: httplib2<0.23.0,>=0.8 in /usr/local/lib/python3.10/dist-packages (from apache-beam) (0.21.0)\n",
            "Requirement already satisfied: numpy<1.25.0,>=1.14.3 in /usr/local/lib/python3.10/dist-packages (from apache-beam) (1.22.4)\n",
            "Collecting objsize<0.7.0,>=0.6.1 (from apache-beam)\n",
            "  Downloading objsize-0.6.1-py3-none-any.whl (9.3 kB)\n",
            "Collecting pymongo<5.0.0,>=3.8.0 (from apache-beam)\n",
            "  Downloading pymongo-4.3.3-cp310-cp310-manylinux_2_17_x86_64.manylinux2014_x86_64.whl (492 kB)\n",
            "\u001b[2K     \u001b[90m━━━━━━━━━━━━━━━━━━━━━━━━━━━━━━━━━━━━━━\u001b[0m \u001b[32m492.9/492.9 kB\u001b[0m \u001b[31m38.3 MB/s\u001b[0m eta \u001b[36m0:00:00\u001b[0m\n",
            "\u001b[?25hRequirement already satisfied: proto-plus<2,>=1.7.1 in /usr/local/lib/python3.10/dist-packages (from apache-beam) (1.22.2)\n",
            "Requirement already satisfied: protobuf<4.24.0,>=3.20.3 in /usr/local/lib/python3.10/dist-packages (from apache-beam) (3.20.3)\n",
            "Requirement already satisfied: pydot<2,>=1.2.0 in /usr/local/lib/python3.10/dist-packages (from apache-beam) (1.4.2)\n",
            "Requirement already satisfied: python-dateutil<3,>=2.8.0 in /usr/local/lib/python3.10/dist-packages (from apache-beam) (2.8.2)\n",
            "Requirement already satisfied: pytz>=2018.3 in /usr/local/lib/python3.10/dist-packages (from apache-beam) (2022.7.1)\n",
            "Requirement already satisfied: regex>=2020.6.8 in /usr/local/lib/python3.10/dist-packages (from apache-beam) (2022.10.31)\n",
            "Requirement already satisfied: requests<3.0.0,>=2.24.0 in /usr/local/lib/python3.10/dist-packages (from apache-beam) (2.27.1)\n",
            "Requirement already satisfied: typing-extensions>=3.7.0 in /usr/local/lib/python3.10/dist-packages (from apache-beam) (4.5.0)\n",
            "Collecting zstandard<1,>=0.18.0 (from apache-beam)\n",
            "  Downloading zstandard-0.21.0-cp310-cp310-manylinux_2_17_x86_64.manylinux2014_x86_64.whl (2.7 MB)\n",
            "\u001b[2K     \u001b[90m━━━━━━━━━━━━━━━━━━━━━━━━━━━━━━━━━━━━━━━━\u001b[0m \u001b[32m2.7/2.7 MB\u001b[0m \u001b[31m109.2 MB/s\u001b[0m eta \u001b[36m0:00:00\u001b[0m\n",
            "\u001b[?25hRequirement already satisfied: pyarrow<12.0.0,>=3.0.0 in /usr/local/lib/python3.10/dist-packages (from apache-beam) (9.0.0)\n",
            "Collecting docopt (from hdfs<3.0.0,>=2.1.0->apache-beam)\n",
            "  Downloading docopt-0.6.2.tar.gz (25 kB)\n",
            "  Preparing metadata (setup.py) ... \u001b[?25l\u001b[?25hdone\n",
            "Requirement already satisfied: six>=1.9.0 in /usr/local/lib/python3.10/dist-packages (from hdfs<3.0.0,>=2.1.0->apache-beam) (1.16.0)\n",
            "Requirement already satisfied: pyparsing!=3.0.0,!=3.0.1,!=3.0.2,!=3.0.3,<4,>=2.4.2 in /usr/local/lib/python3.10/dist-packages (from httplib2<0.23.0,>=0.8->apache-beam) (3.0.9)\n",
            "Collecting dnspython<3.0.0,>=1.16.0 (from pymongo<5.0.0,>=3.8.0->apache-beam)\n",
            "  Downloading dnspython-2.3.0-py3-none-any.whl (283 kB)\n",
            "\u001b[2K     \u001b[90m━━━━━━━━━━━━━━━━━━━━━━━━━━━━━━━━━━━━━━\u001b[0m \u001b[32m283.7/283.7 kB\u001b[0m \u001b[31m28.9 MB/s\u001b[0m eta \u001b[36m0:00:00\u001b[0m\n",
            "\u001b[?25hRequirement already satisfied: urllib3<1.27,>=1.21.1 in /usr/local/lib/python3.10/dist-packages (from requests<3.0.0,>=2.24.0->apache-beam) (1.26.15)\n",
            "Requirement already satisfied: certifi>=2017.4.17 in /usr/local/lib/python3.10/dist-packages (from requests<3.0.0,>=2.24.0->apache-beam) (2022.12.7)\n",
            "Requirement already satisfied: charset-normalizer~=2.0.0 in /usr/local/lib/python3.10/dist-packages (from requests<3.0.0,>=2.24.0->apache-beam) (2.0.12)\n",
            "Requirement already satisfied: idna<4,>=2.5 in /usr/local/lib/python3.10/dist-packages (from requests<3.0.0,>=2.24.0->apache-beam) (3.4)\n",
            "Building wheels for collected packages: crcmod, dill, docopt\n",
            "  Building wheel for crcmod (setup.py) ... \u001b[?25l\u001b[?25hdone\n",
            "  Created wheel for crcmod: filename=crcmod-1.7-cp310-cp310-linux_x86_64.whl size=37105 sha256=7f6162550c72063905e208ae3fa64b80f5a34956b45bb77bc917a4f5bdef0d55\n",
            "  Stored in directory: /root/.cache/pip/wheels/85/4c/07/72215c529bd59d67e3dac29711d7aba1b692f543c808ba9e86\n",
            "  Building wheel for dill (setup.py) ... \u001b[?25l\u001b[?25hdone\n",
            "  Created wheel for dill: filename=dill-0.3.1.1-py3-none-any.whl size=78545 sha256=2c3fc1c87867656a10fee6c80dc31f7a47d7f94c20c469b1e7225b12f3162448\n",
            "  Stored in directory: /root/.cache/pip/wheels/ea/e2/86/64980d90e297e7bf2ce588c2b96e818f5399c515c4bb8a7e4f\n",
            "  Building wheel for docopt (setup.py) ... \u001b[?25l\u001b[?25hdone\n",
            "  Created wheel for docopt: filename=docopt-0.6.2-py2.py3-none-any.whl size=13707 sha256=54292b734462b0b3bcc931d0a155b045f0355b05c271c8e8f6ca11670639dd5e\n",
            "  Stored in directory: /root/.cache/pip/wheels/fc/ab/d4/5da2067ac95b36618c629a5f93f809425700506f72c9732fac\n",
            "Successfully built crcmod dill docopt\n",
            "Installing collected packages: docopt, crcmod, zstandard, orjson, objsize, fasteners, fastavro, dnspython, dill, pymongo, hdfs, apache-beam\n",
            "  Attempting uninstall: dill\n",
            "    Found existing installation: dill 0.3.6\n",
            "    Uninstalling dill-0.3.6:\n",
            "      Successfully uninstalled dill-0.3.6\n",
            "\u001b[31mERROR: pip's dependency resolver does not currently take into account all the packages that are installed. This behaviour is the source of the following dependency conflicts.\n",
            "multiprocess 0.70.14 requires dill>=0.3.6, but you have dill 0.3.1.1 which is incompatible.\u001b[0m\u001b[31m\n",
            "\u001b[0mSuccessfully installed apache-beam-2.48.0 crcmod-1.7 dill-0.3.1.1 dnspython-2.3.0 docopt-0.6.2 fastavro-1.7.4 fasteners-0.18 hdfs-2.7.0 objsize-0.6.1 orjson-3.9.1 pymongo-4.3.3 zstandard-0.21.0\n"
          ]
        },
        {
          "output_type": "display_data",
          "data": {
            "application/vnd.colab-display-data+json": {
              "pip_warning": {
                "packages": [
                  "dill"
                ]
              }
            }
          },
          "metadata": {}
        }
      ]
    },
    {
      "cell_type": "code",
      "source": [
        "from datasets import load_dataset\n",
        "dataset = load_dataset(\"wikipedia\", \"20220301.simple\", split=\"train\")\n"
      ],
      "metadata": {
        "colab": {
          "base_uri": "https://localhost:8080/",
          "height": 137,
          "referenced_widgets": [
            "c481b46a9d9b40b99e71dad9ae167dff",
            "548f26e285df47159ce45604b22e14b7",
            "6ea072e1dbaf48da8b69bb5657f82c70",
            "b6c3553e3dbb43cea3303ee8994d7eea",
            "09d504ae55e444cca94725bb08f846a1",
            "555b021fede1419e9982a80a0158c72d",
            "29f191f136b9412d9b70012bd37c94d2",
            "4e15deb4744f49509b1ff91b88782f1b",
            "f95aaff6beea4aeaa3de804febc61cf2",
            "e7f33ecb97514c139c3723f7a5673b4a",
            "2990bbf6386d4f009c259805b0a0d1ae",
            "d8117cb90b954fafb32067f684724343",
            "bf92184b52bc4cdaa3d57810e75c69da",
            "3ced179444e6431f847e79b233a045ad",
            "65c26078d7144249a7c7d7a9028cf502",
            "da44000420264dfc8fecffbb935c82c2",
            "8e673c8c4b6843e18cf3646676effc75",
            "f070b0ba30d741088833ff216b681042",
            "a5b268b1dd9247258ca67bee35eff474",
            "f3aa6c546f6648c1bf2d63cdc86253a1",
            "d389b27688ea45bfaa191aae2bd587e8",
            "a76ba274bdba41a580682a063a5b7285"
          ]
        },
        "id": "pgBrORzXlm0N",
        "outputId": "e94876f9-5a2f-41df-9b79-d60db183e913"
      },
      "execution_count": 7,
      "outputs": [
        {
          "output_type": "stream",
          "name": "stdout",
          "text": [
            "Downloading and preparing dataset wikipedia/20220301.simple to /root/.cache/huggingface/datasets/wikipedia/20220301.simple/2.0.0/aa542ed919df55cc5d3347f42dd4521d05ca68751f50dbc32bae2a7f1e167559...\n"
          ]
        },
        {
          "output_type": "display_data",
          "data": {
            "text/plain": [
              "Downloading:   0%|          | 0.00/1.66k [00:00<?, ?B/s]"
            ],
            "application/vnd.jupyter.widget-view+json": {
              "version_major": 2,
              "version_minor": 0,
              "model_id": "c481b46a9d9b40b99e71dad9ae167dff"
            }
          },
          "metadata": {}
        },
        {
          "output_type": "display_data",
          "data": {
            "text/plain": [
              "Downloading:   0%|          | 0.00/235M [00:00<?, ?B/s]"
            ],
            "application/vnd.jupyter.widget-view+json": {
              "version_major": 2,
              "version_minor": 0,
              "model_id": "d8117cb90b954fafb32067f684724343"
            }
          },
          "metadata": {}
        },
        {
          "output_type": "stream",
          "name": "stdout",
          "text": [
            "Dataset wikipedia downloaded and prepared to /root/.cache/huggingface/datasets/wikipedia/20220301.simple/2.0.0/aa542ed919df55cc5d3347f42dd4521d05ca68751f50dbc32bae2a7f1e167559. Subsequent calls will reuse this data.\n"
          ]
        }
      ]
    },
    {
      "cell_type": "code",
      "source": [
        "print('dataset shape:', dataset.shape)"
      ],
      "metadata": {
        "colab": {
          "base_uri": "https://localhost:8080/"
        },
        "id": "XTBotMtknDYe",
        "outputId": "371f6514-982f-45cd-979f-5683e69e5cc9"
      },
      "execution_count": 8,
      "outputs": [
        {
          "output_type": "stream",
          "name": "stdout",
          "text": [
            "dataset shape: (205328, 4)\n"
          ]
        }
      ]
    },
    {
      "cell_type": "code",
      "source": [
        "import nltk\n",
        "nltk.download('punkt')\n",
        "\n",
        "import nltk.data\n",
        "tokenizer = nltk.data.load('tokenizers/punkt/PY3/english.pickle')"
      ],
      "metadata": {
        "colab": {
          "base_uri": "https://localhost:8080/"
        },
        "id": "dMoP3C80sP9v",
        "outputId": "7a215a07-851f-4811-99b3-ac137bd20403"
      },
      "execution_count": 16,
      "outputs": [
        {
          "output_type": "stream",
          "name": "stderr",
          "text": [
            "[nltk_data] Downloading package punkt to /root/nltk_data...\n",
            "[nltk_data]   Unzipping tokenizers/punkt.zip.\n"
          ]
        }
      ]
    },
    {
      "cell_type": "code",
      "source": [
        "import json\n",
        "\n",
        "a = tokenizer.tokenize(dataset[6]['text'])\n",
        "##pretty_json = json.loads(dataset[0], indent=4, sort_keys=True)\n",
        "##print(pretty_json)"
      ],
      "metadata": {
        "id": "1mGxARFQnLyo"
      },
      "execution_count": 17,
      "outputs": []
    },
    {
      "cell_type": "code",
      "source": [
        "print(a)"
      ],
      "metadata": {
        "colab": {
          "base_uri": "https://localhost:8080/"
        },
        "id": "nbdP5ftas717",
        "outputId": "dd123253-1d54-491f-bb8e-11c74bda7251"
      },
      "execution_count": 18,
      "outputs": [
        {
          "output_type": "stream",
          "name": "stdout",
          "text": [
            "['Alan Mathison Turing OBE FRS (London, 23 June 1912 – Wilmslow, Cheshire, 7 June 1954) was an English mathematician and computer scientist.', 'He was born in Maida Vale, London.', 'Early life and family \\nAlan Turing was born in Maida Vale, London on 23 June 1912.', 'His father was part of a family of merchants from Scotland.', 'His mother, Ethel Sara, was the daughter of an engineer.', \"Education \\nTuring went to St. Michael's, a school at 20 Charles Road, St Leonards-on-sea, when he was five years old.\", '\"This is only a foretaste of what is to come, and only the shadow of what is going to be.” – Alan Turing.', 'The Stoney family were once prominent landlords, here in North Tipperary.', 'His mother Ethel Sara Stoney (1881–1976) was daughter of Edward Waller Stoney (Borrisokane, North Tipperary) and Sarah Crawford (Cartron Abbey, Co. Longford); Protestant Anglo-Irish gentry.', 'Educated in Dublin at Alexandra School and College; on October 1st 1907 she married Julius Mathison Turing, latter son of Reverend John Robert Turing and Fanny Boyd, in Dublin.', 'Born on June 23rd 1912, Alan Turing would go on to be regarded as one of the greatest figures of the twentieth century.', 'A brilliant mathematician and cryptographer Alan was to become the founder of modern-day computer science and artificial intelligence; designing a machine at Bletchley Park to break secret Enigma encrypted messages used by the Nazi German war machine to protect sensitive commercial, diplomatic and military communications during World War 2.', 'Thus, Turing made the single biggest contribution to the Allied victory in the war against Nazi Germany, possibly saving the lives of an estimated 2 million people, through his effort in shortening World War II.', 'In 2013, almost 60 years later, Turing received a posthumous Royal Pardon from Queen Elizabeth II.', 'Today, the “Turing law” grants an automatic pardon to men who died before the law came into force, making it possible for living convicted gay men to seek pardons for offences now no longer on the statute book.', 'Alas, Turing accidentally or otherwise lost his life in 1954, having been subjected by a British court to chemical castration, thus avoiding a custodial sentence.', 'He is known to have ended his life at the age of 41 years, by eating an apple laced with cyanide.', 'Career \\nTuring was one of the people who worked on the first computers.', 'He created the theoretical  Turing machine in 1936.', 'The machine was imaginary, but it included the idea of a computer program.', 'Turing was interested in artificial intelligence.', 'He proposed the Turing test, to say when a machine could be called \"intelligent\".', 'A computer could be said to \"think\" if a human talking with it could not tell it was a machine.', 'During World War II, Turing worked with others to break German ciphers (secret messages).', \"He  worked for the Government Code and Cypher School (GC&CS) at Bletchley Park, Britain's codebreaking centre that produced Ultra intelligence.\", 'Using cryptanalysis, he helped to break the codes of the Enigma machine.', 'After that, he worked on other German codes.', 'From 1945 to 1947, Turing worked on the design of the ACE (Automatic Computing Engine) at the National Physical Laboratory.', 'He presented a paper on 19 February 1946.', 'That paper was \"the first detailed design of a stored-program computer\".', 'Although it was possible to build ACE, there were delays in starting the project.', 'In late 1947 he returned to Cambridge for a sabbatical year.', 'While he was at Cambridge, the Pilot ACE was built without him.', 'It ran its first program on 10\\xa0May 1950.', 'Private life \\nTuring was a homosexual man.', 'In 1952, he admitted having had sex with a man in England.', 'At that time, homosexual acts were illegal.', 'Turing was convicted.', 'He had to choose between going to jail and taking hormones to lower his sex drive.', 'He decided to take the hormones.', 'After his punishment, he became impotent.', 'He also grew breasts.', \"In May 2012, a private member's bill was put before the House of Lords to grant Turing a statutory pardon.\", 'In July 2013, the government supported it.', 'A royal pardon was granted on 24 December 2013.', 'Death \\nIn 1954, Turing died from cyanide poisoning.', 'The cyanide came from either an apple which was poisoned with cyanide, or from water that had cyanide in it.', 'The reason for the confusion is that the police never tested the apple for cyanide.', 'It is also suspected that he committed suicide.', 'The treatment forced on him is now believed to be very wrong.', 'It is against medical ethics and international laws of human rights.', 'In August 2009, a petition asking the British Government to apologise to Turing for punishing him for being a homosexual was started.', 'The petition received thousands of signatures.', 'Prime Minister Gordon Brown acknowledged the petition.', 'He called Turing\\'s treatment \"appalling\".', 'References\\n\\nOther websites \\nJack Copeland 2012.', \"Alan Turing: The codebreaker who saved 'millions of lives'.\", 'BBC News / Technology \\n\\nEnglish computer scientists\\nEnglish LGBT people\\nEnglish mathematicians\\nGay men\\nLGBT scientists\\nScientists from London\\nSuicides by poison\\nSuicides in the United Kingdom\\n1912 births\\n1954 deaths\\nOfficers of the Order of the British Empire']\n"
          ]
        }
      ]
    },
    {
      "cell_type": "code",
      "source": [
        "from nltk.tokenize import TreebankWordTokenizer\n",
        "word_tokenizer = TreebankWordTokenizer()\n",
        "b = word_tokenizer.tokenize(a[10])\n",
        "print(b)"
      ],
      "metadata": {
        "colab": {
          "base_uri": "https://localhost:8080/"
        },
        "id": "IiVyFnZDtOWS",
        "outputId": "310b7ea0-365b-4766-fc43-55e01bf6a81d"
      },
      "execution_count": 21,
      "outputs": [
        {
          "output_type": "stream",
          "name": "stdout",
          "text": [
            "['Born', 'on', 'June', '23rd', '1912', ',', 'Alan', 'Turing', 'would', 'go', 'on', 'to', 'be', 'regarded', 'as', 'one', 'of', 'the', 'greatest', 'figures', 'of', 'the', 'twentieth', 'century', '.']\n"
          ]
        }
      ]
    },
    {
      "cell_type": "code",
      "source": [
        "from nltk.tokenize import word_tokenize\n",
        "tokens = word_tokenize(dataset[0]['text'])"
      ],
      "metadata": {
        "id": "RrcKtccmvn-J"
      },
      "execution_count": 23,
      "outputs": []
    },
    {
      "cell_type": "code",
      "source": [
        "print(tokens)"
      ],
      "metadata": {
        "colab": {
          "base_uri": "https://localhost:8080/"
        },
        "id": "lSSttZygv0B4",
        "outputId": "33030f5b-f071-470e-f3fe-558fc66d6f8d"
      },
      "execution_count": 24,
      "outputs": [
        {
          "output_type": "stream",
          "name": "stdout",
          "text": [
            "['April', 'is', 'the', 'fourth', 'month', 'of', 'the', 'year', 'in', 'the', 'Julian', 'and', 'Gregorian', 'calendars', ',', 'and', 'comes', 'between', 'March', 'and', 'May', '.', 'It', 'is', 'one', 'of', 'four', 'months', 'to', 'have', '30', 'days', '.', 'April', 'always', 'begins', 'on', 'the', 'same', 'day', 'of', 'week', 'as', 'July', ',', 'and', 'additionally', ',', 'January', 'in', 'leap', 'years', '.', 'April', 'always', 'ends', 'on', 'the', 'same', 'day', 'of', 'the', 'week', 'as', 'December', '.', 'April', \"'s\", 'flowers', 'are', 'the', 'Sweet', 'Pea', 'and', 'Daisy', '.', 'Its', 'birthstone', 'is', 'the', 'diamond', '.', 'The', 'meaning', 'of', 'the', 'diamond', 'is', 'innocence', '.', 'The', 'Month', 'April', 'comes', 'between', 'March', 'and', 'May', ',', 'making', 'it', 'the', 'fourth', 'month', 'of', 'the', 'year', '.', 'It', 'also', 'comes', 'first', 'in', 'the', 'year', 'out', 'of', 'the', 'four', 'months', 'that', 'have', '30', 'days', ',', 'as', 'June', ',', 'September', 'and', 'November', 'are', 'later', 'in', 'the', 'year', '.', 'April', 'begins', 'on', 'the', 'same', 'day', 'of', 'the', 'week', 'as', 'July', 'every', 'year', 'and', 'on', 'the', 'same', 'day', 'of', 'the', 'week', 'as', 'January', 'in', 'leap', 'years', '.', 'April', 'ends', 'on', 'the', 'same', 'day', 'of', 'the', 'week', 'as', 'December', 'every', 'year', ',', 'as', 'each', 'other', \"'s\", 'last', 'days', 'are', 'exactly', '35', 'weeks', '(', '245', 'days', ')', 'apart', '.', 'In', 'common', 'years', ',', 'April', 'starts', 'on', 'the', 'same', 'day', 'of', 'the', 'week', 'as', 'October', 'of', 'the', 'previous', 'year', ',', 'and', 'in', 'leap', 'years', ',', 'May', 'of', 'the', 'previous', 'year', '.', 'In', 'common', 'years', ',', 'April', 'finishes', 'on', 'the', 'same', 'day', 'of', 'the', 'week', 'as', 'July', 'of', 'the', 'previous', 'year', ',', 'and', 'in', 'leap', 'years', ',', 'February', 'and', 'October', 'of', 'the', 'previous', 'year', '.', 'In', 'common', 'years', 'immediately', 'after', 'other', 'common', 'years', ',', 'April', 'starts', 'on', 'the', 'same', 'day', 'of', 'the', 'week', 'as', 'January', 'of', 'the', 'previous', 'year', ',', 'and', 'in', 'leap', 'years', 'and', 'years', 'immediately', 'after', 'that', ',', 'April', 'finishes', 'on', 'the', 'same', 'day', 'of', 'the', 'week', 'as', 'January', 'of', 'the', 'previous', 'year', '.', 'In', 'years', 'immediately', 'before', 'common', 'years', ',', 'April', 'starts', 'on', 'the', 'same', 'day', 'of', 'the', 'week', 'as', 'September', 'and', 'December', 'of', 'the', 'following', 'year', ',', 'and', 'in', 'years', 'immediately', 'before', 'leap', 'years', ',', 'June', 'of', 'the', 'following', 'year', '.', 'In', 'years', 'immediately', 'before', 'common', 'years', ',', 'April', 'finishes', 'on', 'the', 'same', 'day', 'of', 'the', 'week', 'as', 'September', 'of', 'the', 'following', 'year', ',', 'and', 'in', 'years', 'immediately', 'before', 'leap', 'years', ',', 'March', 'and', 'June', 'of', 'the', 'following', 'year', '.', 'April', 'is', 'a', 'spring', 'month', 'in', 'the', 'Northern', 'Hemisphere', 'and', 'an', 'autumn/fall', 'month', 'in', 'the', 'Southern', 'Hemisphere', '.', 'In', 'each', 'hemisphere', ',', 'it', 'is', 'the', 'seasonal', 'equivalent', 'of', 'October', 'in', 'the', 'other', '.', 'It', 'is', 'unclear', 'as', 'to', 'where', 'April', 'got', 'its', 'name', '.', 'A', 'common', 'theory', 'is', 'that', 'it', 'comes', 'from', 'the', 'Latin', 'word', '``', 'aperire', \"''\", ',', 'meaning', '``', 'to', 'open', \"''\", ',', 'referring', 'to', 'flowers', 'opening', 'in', 'spring', '.', 'Another', 'theory', 'is', 'that', 'the', 'name', 'could', 'come', 'from', 'Aphrodite', ',', 'the', 'Greek', 'goddess', 'of', 'love', '.', 'It', 'was', 'originally', 'the', 'second', 'month', 'in', 'the', 'old', 'Roman', 'Calendar', ',', 'before', 'the', 'start', 'of', 'the', 'new', 'year', 'was', 'put', 'to', 'January', '1', '.', 'Quite', 'a', 'few', 'festivals', 'are', 'held', 'in', 'this', 'month', '.', 'In', 'many', 'Southeast', 'Asian', 'cultures', ',', 'new', 'year', 'is', 'celebrated', 'in', 'this', 'month', '(', 'including', 'Songkran', ')', '.', 'In', 'Western', 'Christianity', ',', 'Easter', 'can', 'be', 'celebrated', 'on', 'a', 'Sunday', 'between', 'March', '22', 'and', 'April', '25', '.', 'In', 'Orthodox', 'Christianity', ',', 'it', 'can', 'fall', 'between', 'April', '4', 'and', 'May', '8', '.', 'At', 'the', 'end', 'of', 'the', 'month', ',', 'Central', 'and', 'Northern', 'European', 'cultures', 'celebrate', 'Walpurgis', 'Night', 'on', 'April', '30', ',', 'marking', 'the', 'transition', 'from', 'winter', 'into', 'summer', '.', 'April', 'in', 'poetry', 'Poets', 'use', 'April', 'to', 'mean', 'the', 'end', 'of', 'winter', '.', 'For', 'example', ':', 'April', 'showers', 'bring', 'May', 'flowers', '.', 'Events', 'in', 'April', 'Fixed', 'Events', 'April', '1', '-', 'April', 'Fools', \"'\", 'Day', 'April', '1', '-', 'Islamic', 'Republic', 'Day', '(', 'Iran', ')', 'April', '2', '-', 'International', 'Children', \"'s\", 'Book', 'Day', 'April', '2', '-', 'Thai', 'Heritage', 'and', 'Conservation', 'Day', 'April', '2', '-', 'World', 'Autism', 'Awareness', 'Day', 'April', '2', '-', 'Malvinas', 'Day', '(', 'Argentina', ')', 'April', '4', '-', 'Independence', 'Day', '(', 'Senegal', ')', 'April', '4', '-', 'International', 'Day', 'for', 'Landmine', 'Awareness', 'and', 'Assistance', 'April', '4', '-', 'Peace', 'Day', '(', 'Angola', ')', 'April', '5', '-', 'End', 'of', 'Tax', 'Year', '(', 'United', 'Kingdom', ')', 'April', '6', '-', 'Tartan', 'Day', '(', 'Canada', 'and', 'United', 'States', ')', 'April', '6', '-', 'Chakri', 'Day', '(', 'Thailand', ')', 'April', '7', '-', 'Day', 'of', 'Maternity', 'and', 'Beauty', '(', 'Armenia', ')', 'April', '7', '-', 'Genocide', 'Memorial', 'Day', '(', 'Rwanda', ')', 'April', '7', '-', 'World', 'Health', 'Day', 'April', '7', '-', 'Women', \"'s\", 'Day', '(', 'Mozambique', ')', 'April', '8', '-', 'Buddha', \"'s\", 'Birthday', '(', 'Buddhism', ')', 'April', '9', '-', 'Martyrs', \"'\", 'Day', '(', 'Tunisia', ')', 'April', '9', '-', 'Day', 'of', 'National', 'Unity', '(', 'Georgia', ')', 'April', '9', '-', 'Day', 'of', 'the', 'Finnish', 'language', 'April', '12', '-', 'Cosmonauts', \"'\", 'Day', '(', 'Russia', ')', ',', 'marking', 'the', 'day', 'of', 'Yuri', 'Gagarin', \"'s\", 'space', 'flight', 'April', '13', '-', 'Songkan', '(', 'Laos', ')', ',', 'local', 'New', 'Year', 'celebration', 'April', '13', '-', 'Cambodian', 'New', 'Year', 'April', '13', '-', 'Thomas', 'Jefferson', \"'s\", 'Birthday', '(', 'United', 'States', ')', 'April', '14', '-', 'Southeast', 'Asian', 'New', 'Year', 'festivals', ',', 'including', 'Songkran', 'April', '14', '-', 'Georgian', 'language', 'Day', 'April', '14', '-', 'Youth', 'Day', '(', 'Angola', ')', 'April', '14', '-', 'Ambedkar', 'Tayanti', '(', 'India', ')', 'April', '14', '-', 'Pan-American', 'Day', 'April', '15', '-', 'Tax', 'Day', '(', 'United', 'States', ')', 'April', '15', '-', 'Kim', 'Il-Sung', \"'s\", 'Birthday', '(', 'North', 'Korea', ')', 'April', '15', '-', 'Father', 'Damien', 'Day', '(', 'Hawaii', ')', 'April', '15', '-', 'Jackie', 'Robinson', 'Day', '(', 'Major', 'League', 'Baseball', ')', 'April', '16', '-', 'Birthday', 'of', 'Queen', 'Margrethe', 'II', 'of', 'Denmark', 'April', '16', '-', 'Emancipation', 'Day', '(', 'Washington', ',', 'DC', ')', 'April', '16', '-', 'World', 'Voice', 'Day', 'April', '16', '-', 'Selena', 'Day', '(', 'Texas', ')', 'April', '17', '-', 'National', 'Day', 'of', 'Syria', 'April', '17', '-', 'Flag', 'Day', '(', 'American', 'Samoa', ')', 'April', '17', '-', 'Women', \"'s\", 'Day', '(', 'Gabon', ')', 'April', '17', '-', 'World', 'Hemophilia', 'Day', 'April', '18', '-', 'Independence', 'Day', '(', 'Zimbabwe', ')', 'April', '18', '-', 'Invention', 'Day', '(', 'Japan', ')', 'April', '18', '-', 'International', 'Day', 'of', 'Monuments', 'and', 'Sites', 'April', '19', '-', 'Bicycle', 'Day', 'April', '19', '-', 'Dutch-American', 'Friendship', 'Day', 'April', '19', '-', 'Birthday', 'of', 'King', 'Mswati', 'III', 'of', 'Swaziland', 'April', '19', '-', 'Patriots', \"'\", 'Day', '(', 'Massachusetts', ',', 'Maine', ',', 'Wisconsin', ')', 'April', '20', '-', '4/20', 'in', 'Cannabis', 'Culture', 'April', '21', '-', 'John', 'Muir', 'Day', '(', 'California', ')', 'April', '21', '-', 'San', 'Jacinto', 'Day', '(', 'Texas', ')', 'April', '21', '-', 'Kartini', 'Day', '(', 'Indonesia', ')', 'April', '21', '-', 'National', 'Tree', 'Planting', 'Day', '(', 'Kenya', ')', 'April', '21', '-', 'First', 'Day', 'of', 'Ridran', '(', 'Baha', \"'\", 'i', 'faith', ')', 'April', '21', '-', 'Grounation', 'Day', '(', 'Rastafari', 'movement', ')', 'April', '22', '-', 'Earth', 'Day', 'April', '22', '-', 'Discovery', 'Day', '(', 'Brazil', ')', 'April', '23', '-', 'Saint', 'George', \"'s\", 'Day', ',', 'celebrating', 'the', 'patron', 'saint', 'of', 'several', 'countries', ',', 'regions', 'and', 'cities', '(', 'including', 'England', 'and', 'Catalonia', ')', 'April', '23', '-', 'World', 'Book', 'Day', 'April', '23', '-', 'National', 'Sovereignty', 'and', 'Children', \"'s\", 'Day', '(', 'Turkey', ')', 'April', '24', '-', 'Democracy', 'Day', '(', 'Nepal', ')', 'April', '24', '-', 'Genocide', 'Day', '(', 'Armenia', ')', 'April', '24', '-', 'Republic', 'Day', '(', 'the', 'Gambia', ')', 'April', '25', '-', 'Australia', 'and', 'New', 'Zealand', 'celebrate', 'ANZAC', 'Day', '.', 'ANZAC', 'means', 'Australian', 'and', 'New', 'Zealand', 'Army', 'Corps', ',', 'and', 'began', 'in', '1915', '.', 'April', '25', '-', 'World', 'DNA', 'Day', 'April', '25', '-', 'World', 'Malaria', 'Day', 'April', '25', '-', 'Flag', 'Day', '(', 'Swaziland', ',', 'Faroe', 'Islands', ')', 'April', '25', '-', 'Freedom', 'Day', '(', 'Portugal', ')', 'April', '25', '-', 'Liberation', 'Day', '(', 'Italy', ')', 'April', '25', '-', 'Army', 'Day', '(', 'North', 'Korea', ')', 'April', '26', '-', 'Union', 'Day', '(', 'Tanzania', ')', 'April', '26', '-', 'Confederate', 'Memorial', 'Day', '(', 'Texas', ',', 'Florida', ')', 'April', '27', '-', 'Independence', 'Day', '(', 'Sierra', 'Leone', 'and', 'Togo', ')', 'April', '27', '-', 'Freedom', 'Day', '(', 'South', 'Africa', ')', 'April', '27', '-', 'World', 'Tapir', 'Day', 'April', '27', '-', 'King', \"'s\", 'Day', '(', 'Netherlands', ')', 'from', '2014', ',', 'birthday', 'of', 'Willem-Alexander', 'of', 'the', 'Netherlands', 'April', '28', '-', 'Workers', 'Memorial', 'Day', 'April', '28', '-', 'National', 'Day', '(', 'Sardinia', ')', 'April', '28', '-', 'National', 'Heroes', 'Day', '(', 'Barbados', ')', 'April', '29', '-', 'Showa', 'Day', '(', 'Japan', ')', ',', 'birthday', 'of', 'Emperor', 'Hirohito', ',', 'who', 'died', 'in', '1989', 'April', '29', '-', 'International', 'Dance', 'Day', 'April', '30', '-', 'Former', 'Queen', \"'s\", 'Day', 'Holiday', 'in', 'the', 'Netherlands', '(', 'changed', 'to', 'King', \"'s\", 'Day', ',', 'April', '27', 'in', '2014', ')', ',', 'was', 'the', 'birthday', 'of', 'former', 'Queen', 'Juliana', 'of', 'the', 'Netherlands', 'April', '30', '-', 'Flag', 'Day', 'in', 'Sweden', '(', 'birthday', 'of', 'King', 'Carl', 'XVI', 'Gustaf', 'of', 'Sweden', ')', 'April', '30', '-', 'International', 'Jazz', 'Day', 'April', '30', '-', 'Walpurgis', 'Night', '(', 'Central', 'and', 'Northern', 'Europe', ')', 'Moveable', 'Events', 'Easter-related', 'events', 'in', 'Western', 'Christianity', ':', 'Palm', 'Sunday', '(', 'between', 'March', '15', 'and', 'April', '18', ')', 'Maundy', 'Thursday', '(', 'between', 'March', '19', 'and', 'April', '22', ')', 'Good', 'Friday', '(', 'between', 'March', '20', 'and', 'April', '23', ')', 'Easter', 'Sunday', '(', 'between', 'March', '22', 'and', 'April', '25', ')', 'Easter', 'Monday', '(', 'between', 'March', '23', 'and', 'April', '26', ')', 'Eastern', 'Orthodox', 'Easter', 'falls', 'between', 'April', '4', 'and', 'May', '8', '.', 'Ascension', 'Day', '(', 'Western', 'Christianity', ')', ',', 'falls', 'between', 'April', '30', 'and', 'June', '3', '.', 'Jewish', 'Passover', '-', 'falls', 'in', 'the', 'same', 'week', 'as', 'Western', 'Christianity', \"'s\", 'Holy', 'Week', ',', 'which', 'is', 'the', 'week', 'leading', 'up', 'to', 'Easter', '.', 'Mother', \"'s\", 'Day', '(', 'UK', ')', 'falls', 'between', 'March', '1', 'and', 'April', '4', '.', 'World', 'Snooker', 'Championship', '(', 'late', 'April', ',', 'early', 'May', ')', 'Horse', 'racing', '-', 'Grand', 'National', '(', 'UK', ')', ',', 'Kentucky', 'Derby', '(', 'United', 'States', ')', 'Start', 'of', 'Daylight', 'Saving', 'Time', '-', 'Clocks', 'going', 'forward', 'one', 'hour', ':', 'Most', 'of', 'Mexico', 'Morocco', '(', 'Ramadan', 'does', 'not', 'include', 'Daylight', 'Saving', 'Time', ')', 'End', 'of', 'Daylight', 'Saving', 'Time', '-', 'Clocks', 'going', 'back', 'one', 'hour', ':', 'Southeast', 'Australia', ',', 'and', 'New', 'Zealand', 'Chile', 'Marathon', 'Events', 'in', 'the', 'following', 'cities', ':', 'Belgrade', ',', 'Serbia', 'Boston', ',', 'Massachusetts', ',', 'United', 'States', 'Brighton', ',', 'United', 'Kingdom', 'Enschede', ',', 'Netherlands', 'London', ',', 'United', 'Kingdom', 'Madrid', ',', 'Spain', 'Paris', ',', 'France', 'Rotterdam', ',', 'Netherlands', 'Utrecht', ',', 'Netherlands', 'Zurich', ',', 'Switzerland', 'Selection', 'of', 'Historical', 'Events', 'April', '1', ',', '1918', '-', 'The', 'Royal', 'Air', 'Force', 'is', 'founded', '.', 'April', '1', ',', '1976', '-', 'Apple', 'Inc.', 'is', 'founded', '.', 'April', '1', ',', '1979', '-', 'The', 'Islamic', 'Republic', 'of', 'Iran', 'is', 'founded', '.', 'April', '1', ',', '1999', '-', 'The', 'territory', 'of', 'Nunavut', 'is', 'created', 'in', 'Northern', 'Canada', '.', 'April', '1', ',', '2001', '-', 'The', 'Netherlands', 'introduces', 'same-sex', 'marriage', ',', 'as', 'the', 'first', 'country', 'to', 'do', 'so', '.', 'April', '2', ',', '1519', '-', 'Florida', 'is', 'sighted', 'by', 'a', 'European', 'for', 'the', 'first', 'time', '.', 'April', '2', ',', '1930', '-', 'Haile', 'Selassie', 'becomes', 'Emperor', 'of', 'Ethiopia', '.', 'April', '2', ',', '1982', '-', 'Start', 'of', 'the', 'Falklands', 'War', ',', 'as', 'Argentine', 'forces', 'land', 'on', 'the', 'Falkland', 'Islands', '.', 'April', '2', ',', '2005', '-', 'Pope', 'John', 'Paul', 'II', 'dies', 'aged', '84', ',', 'after', '26-and-a-half', 'years', 'as', 'Pope', '.', 'April', '3', ',', '1973', '-', 'The', 'first-ever', 'mobile', 'phone', 'call', 'is', 'placed', 'by', 'Martin', 'Cooper', 'in', 'New', 'York', 'City', '.', 'April', '4', ',', '1721', '-', 'Robert', 'Walpole', 'becomes', 'the', 'first', 'Prime', 'Minister', 'of', 'Great', 'Britain', '.', 'April', '4', ',', '1841', '-', 'William', 'Henry', 'Harrison', 'dies', '.', 'He', 'was', 'President', 'of', 'the', 'United', 'States', 'for', '31', 'days', ',', 'the', 'shortest-ever', 'time', 'in', 'office', 'for', 'a', 'US', 'President', '.', 'April', '4', ',', '1960', '-', 'Senegal', 'becomes', 'independent', '.', 'April', '4', ',', '1968', '-', 'Assassination', 'of', 'Martin', 'Luther', 'King', ',', 'Jr.', 'in', 'Memphis', ',', 'Tennessee', '.', 'April', '5', ',', '1722', '-', 'Jacob', 'Roggeveen', 'becomes', 'the', 'first', 'European', 'to', 'land', 'on', 'Easter', 'Island', ',', 'landing', 'there', 'on', 'Easter', 'Sunday', '.', 'April', '6', ',', '1320', '-', 'Scotland', \"'s\", 'independence', 'is', 'confirmed', 'with', 'the', 'Declaration', 'of', 'Arbroath', '.', 'April', '6', ',', '1830', '-', 'The', 'Mormon', 'Church', 'is', 'founded', '.', 'April', '6', ',', '1909', '-', 'Robert', 'Peary', 'claims', 'to', 'have', 'been', 'first', 'at', 'the', 'North', 'Pole', 'on', 'this', 'date', '.', 'April', '7', ',', '1994', '-', 'The', 'Rwandan', 'Genocide', 'begins', '.', 'April', '9', ',', '1865', '-', 'American', 'Civil', 'War', ':', 'Confederate', 'forces', 'under', 'Robert', 'E.', 'Lee', 'surrender', 'to', 'Union', 'forces', '.', 'April', '9', ',', '1940', '-', 'World', 'War', 'II', ':', 'Denmark', 'and', 'Norway', 'are', 'invaded', 'by', 'Nazi', 'Germany', '.', 'April', '9', ',', '1989', '-', 'April', '9', 'tragedy', ':', 'In', 'Tbilisi', ',', 'Georgia', ',', 'a', 'peaceful', 'demonstration', 'for', 'independence', 'is', 'broken', 'up', 'by', 'the', 'Soviet', 'Army', ',', 'killing', '20', 'people', '.', 'The', 'country', 'gains', 'independence', 'on', 'this', 'date', 'exactly', 'two', 'years', 'later', '.', 'April', '10', ',', '1815', '-', 'Mount', 'Tambora', 'in', 'Indonesia', 'erupts', 'in', 'a', 'huge', 'eruption', ',', 'affecting', 'the', 'world', \"'s\", 'climate', 'for', 'at', 'least', 'a', 'year', '.', 'April', '10', ',', '2010', '-', 'A', 'plane', 'crash', 'near', 'Smolensk', ',', 'Russia', ',', 'kills', 'several', 'people', 'who', 'were', 'important', 'in', 'Poland', ',', 'including', 'President', 'Lech', 'Kaczynski', '.', 'April', '11', ',', '1814', '-', 'Napoleon', 'Bonaparte', 'is', 'exiled', 'to', 'the', 'island', 'of', 'Elba', '.', 'April', '11', ',', '1954', '-', 'Said', 'to', 'have', 'been', 'the', 'most', 'boring', 'day', 'of', 'the', '20th', 'century', '.', 'April', '12', ',', '1861', '-', 'The', 'American', 'Civil', 'War', 'begins', 'at', 'Fort', 'Sumter', ',', 'Charleston', ',', 'South', 'Carolina', '.', 'April', '12', ',', '1945', '-', 'US', 'President', 'Franklin', 'D.', 'Roosevelt', 'dies', ',', 'and', 'Harry', 'S.', 'Truman', 'replaces', 'him', '.', 'April', '12', ',', '1961', '-', 'Yuri', 'Gagarin', 'becomes', 'the', 'first', 'human', 'to', 'fly', 'into', 'space', '.', 'April', '14', ',', '1865', '-', 'US', 'President', 'Abraham', 'Lincoln', 'is', 'shot', 'dead', 'at', 'Ford', \"'s\", 'Theatre', 'by', 'John', 'Wilkes', 'Booth', '.', 'Lincoln', 'dies', 'the', 'next', 'day', '.', 'April', '14', ',', '2010', '-', 'Qinghai', 'Province', ',', 'China', ',', 'is', 'hit', 'by', 'an', 'earthquake', ',', 'killing', 'tens', 'of', 'thousands', 'of', 'people', '.', 'April', '14', ',', '2010', '-', 'The', 'eruption', 'of', 'Eyjafjallajokull', 'in', 'Iceland', 'shuts', 'down', 'air', 'traffic', 'around', 'Europe', 'for', 'a', 'week', ',', 'due', 'to', 'its', 'ash', 'cloud', '.', 'April', '15', ',', '1912', '-', 'The', 'ship', 'RMS', 'Titanic', 'sinks', 'near', 'Newfoundland', 'after', 'hitting', 'an', 'iceberg', ',', 'resulting', 'in', 'the', 'deaths', 'of', 'many', 'of', 'the', 'people', 'on', 'board', '.', 'April', '16', ',', '1943', '-', 'Albert', 'Hofmann', 'discovers', 'LSD', \"'s\", 'effects', '.', 'April', '17', ',', '1946', '-', 'Syria', 'gains', 'full', 'independence', 'from', 'France', '.', 'April', '18', ',', '1906', '-', '1906', 'San', 'Francisco', 'earthquake', ':', 'San', 'Francisco', ',', 'California', ',', 'is', 'hit', 'by', 'a', 'big', 'earthquake', ',', 'resulting', 'in', 'fires', 'that', 'destroy', 'large', 'parts', 'of', 'the', 'city', '.', 'April', '18', ',', '1980', '-', 'Zimbabwe', 'gains', 'full', 'independence', '.', 'April', '19', ',', '1897', '-', 'The', 'first', 'Boston', 'Marathon', 'is', 'held', '.', 'April', '19', ',', '1971', '-', 'Sierra', 'Leone', 'becomes', 'a', 'republic', '.', 'April', '19', ',', '1993', '-', 'The', 'siege', 'of', 'the', 'Branch', 'Davidians', 'at', 'Waco', ',', 'Texas', ',', 'ends', 'in', 'a', 'fire', 'that', 'kills', '82', 'people', '.', 'April', '19', ',', '1995', '-', 'Timothy', 'McVeigh', 'carries', 'out', 'the', 'Oklahoma', 'City', 'bombing', ',', 'killing', '169', 'people', '.', 'April', '19', ',', '2005', '-', 'Joseph', 'Alois', 'Ratzinger', 'becomes', 'Pope', 'Benedict', 'XVI', '.', 'April', '20', ',', '1902', '-', 'Marie', 'Curie', 'and', 'Pierre', 'Curie', 'refine', 'Radium', '.', 'April', '20', ',', '2010', '-', 'Deepwater', 'Horizon', 'oil', 'spill', ':', 'A', 'massive', 'fire', 'on', 'the', 'Deepwater', 'Horizon', 'drilling', 'rig', 'in', 'the', 'Gulf', 'of', 'Mexico', 'kills', '11', 'workers', 'and', 'causes', 'a', 'massive', 'oil', 'spill', ',', 'the', 'worst', 'spill', 'in', 'US', 'history', '.', 'April', '21', ',', '753', 'BC', '-', 'Legendary', 'founding', 'date', 'of', 'Rome', 'April', '21', ',', '1509', '-', 'Henry', 'VIII', 'of', 'England', 'becomes', 'King', '.', 'April', '21', ',', '1908', '-', 'Frederick', 'Cook', 'claims', 'to', 'have', 'reached', 'the', 'North', 'Pole', 'on', 'this', 'date', '.', 'April', '22', ',', '1502', '-', 'Pedro', 'Alvares', 'Cabral', 'becomes', 'the', 'first', 'European', 'to', 'reach', 'present-day', 'Brazil', '.', 'April', '22', ',', '1970', '-', 'Earth', 'Day', 'is', 'observed', 'for', 'the', 'first', 'time', '.', 'April', '23', ',', '1533', '-', 'The', 'Church', 'of', 'England', 'declares', 'that', 'Henry', 'VIII', 'of', 'England', 'and', 'Catherine', 'of', 'Aragon', 'are', 'not', 'married', '.', 'April', '24', ',', '1916', '-', 'The', 'Easter', 'Rising', 'occurs', 'in', 'Dublin', ',', 'Ireland', '.', 'April', '24', ',', '1990', '-', 'The', 'Hubble', 'Space', 'Telescope', 'is', 'launched', 'on', 'the', 'Space', 'Shuttle', 'Discovery', '.', 'April', '25', ',', '1915', '-', 'World', 'War', 'I', ':', 'In', 'Turkey', ',', 'the', 'Battle', 'of', 'Gallipoli', 'begins', ',', 'Australian', ',', 'French', ',', 'British', 'and', 'New', 'Zealand', 'forces', 'land', 'at', 'Anzac', 'cove', '.', 'April', '25', ',', '1974', '-', 'Portugal', \"'s\", 'dictatorship', 'is', 'overthrown', 'in', 'a', 'coup', ',', 'in', 'what', 'is', 'known', 'as', 'the', 'Carnation', 'Revolution', '.', 'April', '26', ',', '1937', '-', 'Spanish', 'Civil', 'War', ':', 'German', 'planes', 'bomb', 'the', 'town', 'of', 'Guernica', ',', 'Basque', 'Country', ',', 'later', 'depicted', 'in', 'a', 'painting', 'by', 'Pablo', 'Picasso', '.', 'April', '26', ',', '1964', '-', 'Tanganyika', 'and', 'Zanzibar', 'merge', 'to', 'form', 'Tanzania', '.', 'April', '26', ',', '1986', '-', 'A', 'reactor', 'explosion', 'occurs', 'at', 'the', 'Chernobyl', 'nuclear', 'plant', 'in', 'present-day', 'Ukraine', ',', 'with', 'radiation', 'spreading', 'around', 'Europe', 'and', 'the', 'world', '.', 'April', '26/27', ',', '1994', '-', 'South', 'Africa', 'holds', 'its', 'first', 'free', 'elections', '.', 'April', '27', ',', '1960', '-', 'Togo', 'becomes', 'independent', 'from', 'France', '.', 'April', '27', ',', '1961', '-', 'Sierra', 'Leone', 'becomes', 'independent', 'from', 'the', 'United', 'Kingdom', '.', 'April', '28', ',', '1789', '-', 'Mutiny', 'on', 'the', 'ship', 'Bounty', 'in', 'the', 'Pacific', 'Ocean', ',', 'lead', 'by', 'Fletcher', 'Christian', '.', 'April', '28', ',', '1945', '-', 'Benito', 'Mussolini', 'is', 'executed', 'by', 'Italian', 'partisans', '.', 'April', '28', ',', '1947', '-', 'In', 'Peru', ',', 'Thor', 'Heyerdahl', 'starts', 'his', 'Kon-Tiki', 'expedition', 'aimed', 'at', 'proving', 'his', 'theory', 'that', 'the', 'Polynesian', 'settlers', 'on', 'the', 'Pacific', 'Ocean', \"'s\", 'islands', 'came', 'from', 'South', 'America', '.', 'April', '29', ',', '1991', '-', 'A', 'cyclone', 'in', 'Bangladesh', 'kills', 'an', 'estimated', '138,000', 'people', '.', 'April', '29', ',', '2011', '-', 'The', 'wedding', 'of', 'Prince', 'William', ',', 'Duke', 'of', 'Cambridge', 'and', 'Catherine', ',', 'Duchess', 'of', 'Cambridge', 'is', 'broadcast', 'worldwide', '.', 'April', '30', ',', '1789', '-', 'George', 'Washington', 'becomes', 'the', 'first', 'President', 'of', 'the', 'United', 'States', '.', 'April', '30', ',', '1803', '-', 'The', 'United', 'States', 'purchases', '(', 'buys', ')', 'the', 'Louisiana', 'territory', 'from', 'France', '.', 'April', '30', ',', '1945', '-', 'Adolf', 'Hitler', 'commits', 'suicide', 'on', 'the', 'same', 'day', 'that', 'the', 'Soviet', 'Army', 'raises', 'the', 'Red', 'Flag', 'on', 'Berlin', \"'s\", 'Reichstag', '.', 'April', '30', ',', '1952', '-', 'The', 'Diary', 'of', 'Anne', 'Frank', 'is', 'published', 'in', 'English', '.', 'April', '30', ',', '1975', '-', 'The', 'Vietnam', 'War', 'ends', ',', 'as', 'North', 'Vietnamese', 'forces', 'take', 'Saigon', '.', 'April', '30', ',', '1980', '-', 'Queen', 'Juliana', 'of', 'the', 'Netherlands', 'abdicates', 'the', 'throne', ',', 'and', 'her', 'daughter', 'becomes', 'Queen', 'Beatrix', 'of', 'the', 'Netherlands', '.', 'Beatrix', 'later', 'also', 'abdicates', ',', 'on', 'this', 'day', 'in', '2013', ',', 'in', 'favor', 'of', 'her', 'son', ',', 'King', 'Willem-Alexander', 'of', 'the', 'Netherlands', '.', 'Trivia', 'In', 'Western', 'Christianity', ',', 'there', 'is', 'a', 'bigger', 'likelihood', 'of', 'Easter', 'falling', 'in', 'April', 'than', 'in', 'March', '.', 'The', 'months', 'around', 'April', '(', 'March', 'and', 'May', ')', 'both', 'start', 'with', 'an', \"'M\", \"'\", 'in', 'the', 'English', 'language', ',', 'with', 'an', \"'\", 'A', \"'\", 'as', 'the', 'second', 'letter', '.', 'In', 'the', 'English', 'language', ',', 'April', 'is', 'the', 'first', 'of', 'three', 'months', 'in-a-row', ',', 'along', 'with', 'May', 'and', 'June', ',', 'that', 'is', 'also', 'a', 'female', 'given', 'name', '.', 'The', 'astrological', 'signs', 'for', 'April', 'are', 'Aries', '(', 'March', '21', 'to', 'April', '20', ')', 'and', 'Taurus', '(', 'April', '21', 'to', 'May', '20', ')', '.', 'The', 'sweet', 'pea', 'and', 'daisy', 'are', 'the', 'traditional', 'birth', 'flowers', 'for', 'April', '.', 'Birthstone', 'for', 'April', 'is', 'the', 'Diamond', '.', 'April', '1', 'is', 'the', 'only', 'day', 'in', 'April', 'to', 'start', 'within', 'the', 'first', 'quarter', 'of', 'the', 'calendar', 'year', '.', 'If', 'the', 'months', 'of', 'the', 'year', 'were', 'arranged', 'in', 'alphabetical', 'order', 'in', 'the', 'English', 'language', ',', 'April', 'would', 'come', 'first', '.', 'Six', 'current', 'European', 'monarchs', 'were', 'born', 'in', 'April', '.', 'They', 'are', 'King', 'Philippe', 'of', 'Belgium', '(', 'April', '15', ')', ',', 'Queen', 'Margrethe', 'II', 'of', 'Denmark', '(', 'April', '16', ')', ',', 'Henri', ',', 'Grand', 'Duke', 'of', 'Luxembourg', '(', 'April', '16', ')', ',', 'Elizabeth', 'II', 'of', 'the', 'United', 'Kingdom', 'and', 'Commonwealth', 'realms', '(', 'April', '21', ')', ',', 'King', 'Willem-Alexander', 'of', 'the', 'Netherlands', '(', 'April', '27', ')', ',', 'and', 'King', 'Carl', 'XVI', 'Gustaf', 'of', 'Sweden', '(', 'April', '30', ')', '.', 'References']\n"
          ]
        }
      ]
    }
  ]
}