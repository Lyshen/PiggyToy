{
  "nbformat": 4,
  "nbformat_minor": 0,
  "metadata": {
    "colab": {
      "provenance": [],
      "authorship_tag": "ABX9TyO+iyhFU+s75PFzooPweAWj",
      "include_colab_link": true
    },
    "kernelspec": {
      "name": "python3",
      "display_name": "Python 3"
    },
    "language_info": {
      "name": "python"
    }
  },
  "cells": [
    {
      "cell_type": "markdown",
      "metadata": {
        "id": "view-in-github",
        "colab_type": "text"
      },
      "source": [
        "<a href=\"https://colab.research.google.com/github/Lyshen/PiggyToy/blob/main/Lesson06_UNet_practice.ipynb\" target=\"_parent\"><img src=\"https://colab.research.google.com/assets/colab-badge.svg\" alt=\"Open In Colab\"/></a>"
      ]
    },
    {
      "cell_type": "markdown",
      "source": [
        "#Lesson 6. Simple UNet excerise\n",
        "1. Re-use lesson 5's code\n",
        "2. Try to implement your simple UNet using the MNIST dataset\n",
        "3. Explore some simple ideas about the generative model\n",
        "4. Compare the results with Pytorch\n"
      ],
      "metadata": {
        "id": "TF6wjZuH_KMX"
      }
    },
    {
      "cell_type": "code",
      "source": [
        "import numpy as np\n",
        "import torch\n",
        "from torch.utils.data import DataLoader\n",
        "from torchvision.datasets import MNIST\n",
        "import torchvision.transforms as transform"
      ],
      "metadata": {
        "id": "WfZPHOFu_qUQ"
      },
      "execution_count": null,
      "outputs": []
    }
  ]
}