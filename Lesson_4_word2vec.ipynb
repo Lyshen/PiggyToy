{
  "nbformat": 4,
  "nbformat_minor": 0,
  "metadata": {
    "colab": {
      "provenance": [],
      "authorship_tag": "ABX9TyPW5ioEpau+NGeawgZK09oj",
      "include_colab_link": true
    },
    "kernelspec": {
      "name": "python3",
      "display_name": "Python 3"
    },
    "language_info": {
      "name": "python"
    }
  },
  "cells": [
    {
      "cell_type": "markdown",
      "metadata": {
        "id": "view-in-github",
        "colab_type": "text"
      },
      "source": [
        "<a href=\"https://colab.research.google.com/github/Lyshen/PiggyToy/blob/main/Lesson_4_word2vec.ipynb\" target=\"_parent\"><img src=\"https://colab.research.google.com/assets/colab-badge.svg\" alt=\"Open In Colab\"/></a>"
      ]
    },
    {
      "cell_type": "code",
      "execution_count": null,
      "metadata": {
        "id": "l9I3W65dabrJ"
      },
      "outputs": [],
      "source": []
    },
    {
      "cell_type": "markdown",
      "source": [
        "#Lesson-4 Self implement of Word2Vec\n",
        "## Try to use wiki dataset to implement a word2vec process\n",
        ""
      ],
      "metadata": {
        "id": "RxlWR-euacTp"
      }
    },
    {
      "cell_type": "code",
      "source": [
        "# Word2Vec"
      ],
      "metadata": {
        "id": "Sr1KiB-aa5Gy"
      },
      "execution_count": null,
      "outputs": []
    }
  ]
}