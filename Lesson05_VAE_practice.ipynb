{
  "nbformat": 4,
  "nbformat_minor": 0,
  "metadata": {
    "colab": {
      "provenance": [],
      "authorship_tag": "ABX9TyNRJCcHPESnpwO6rnc2Hem9",
      "include_colab_link": true
    },
    "kernelspec": {
      "name": "python3",
      "display_name": "Python 3"
    },
    "language_info": {
      "name": "python"
    }
  },
  "cells": [
    {
      "cell_type": "markdown",
      "metadata": {
        "id": "view-in-github",
        "colab_type": "text"
      },
      "source": [
        "<a href=\"https://colab.research.google.com/github/Lyshen/PiggyToy/blob/main/Lesson05_VAE_practice.ipynb\" target=\"_parent\"><img src=\"https://colab.research.google.com/assets/colab-badge.svg\" alt=\"Open In Colab\"/></a>"
      ]
    },
    {
      "cell_type": "markdown",
      "source": [
        "# Lesson 5. Simple VAE excerise\n",
        "1. Re-use lesson 3's code\n",
        "2. Try to implement your simple VAE using the MNIST dataset\n",
        "3. Explore some simple ideas about the generative model\n",
        "4. Compare the results with Pytorch\n"
      ],
      "metadata": {
        "id": "vpv5f55rfdQL"
      }
    },
    {
      "cell_type": "code",
      "source": [],
      "metadata": {
        "id": "yDJZRguWf2ju"
      },
      "execution_count": null,
      "outputs": []
    }
  ]
}