{
  "nbformat": 4,
  "nbformat_minor": 0,
  "metadata": {
    "colab": {
      "provenance": [],
      "authorship_tag": "ABX9TyPZ6yRTP/d49GeDzbf+Ajkk",
      "include_colab_link": true
    },
    "kernelspec": {
      "name": "python3",
      "display_name": "Python 3"
    },
    "language_info": {
      "name": "python"
    }
  },
  "cells": [
    {
      "cell_type": "markdown",
      "metadata": {
        "id": "view-in-github",
        "colab_type": "text"
      },
      "source": [
        "<a href=\"https://colab.research.google.com/github/Lyshen/PiggyToy/blob/main/Lesson05_VAE_practice.ipynb\" target=\"_parent\"><img src=\"https://colab.research.google.com/assets/colab-badge.svg\" alt=\"Open In Colab\"/></a>"
      ]
    },
    {
      "cell_type": "markdown",
      "source": [
        "# Lesson 5. Simple VAE excerise\n",
        "1. Re-use lesson 3's code\n",
        "2. Try to implement your simple VAE using the MNIST dataset\n",
        "3. Explore some simple ideas about the generative model\n",
        "4. Compare the results with Pytorch\n"
      ],
      "metadata": {
        "id": "vpv5f55rfdQL"
      }
    },
    {
      "cell_type": "code",
      "source": [
        "import numpy as np\n",
        "import torch\n",
        "from torch.utils.data import DataLoader\n",
        "from torchvision.datasets import MNIST\n",
        "import torchvision.transforms as transform"
      ],
      "metadata": {
        "id": "yDJZRguWf2ju"
      },
      "execution_count": 22,
      "outputs": []
    },
    {
      "cell_type": "code",
      "source": [
        "tt = transform.Compose([transform.ToTensor()])\n",
        "\n",
        "train_data = MNIST(root='./data', train=True, transform=tt, download=True)\n",
        "test_data = MNIST(root='./data', train=False, transform=tt)"
      ],
      "metadata": {
        "id": "3FrBz4bHXlSM"
      },
      "execution_count": 23,
      "outputs": []
    },
    {
      "cell_type": "code",
      "source": [
        "def transform_from_torch_to_numpy(torch_data):\n",
        "    features_np = torch_data.data.numpy()\n",
        "    labels_np = torch_data.targets.numpy()\n",
        "\n",
        "    features_np = np.resize(features_np, (features_np.shape[0], features_np.shape[1] * features_np.shape[2]))\n",
        "\n",
        "    # Simplify the exercise\n",
        "    features_np[features_np != 0] = 1\n",
        "\n",
        "    labels = np.zeros((labels_np.shape[0], 10))\n",
        "    for i in range(10):\n",
        "        labels[labels_np==i, i] = 1.\n",
        "\n",
        "    return features_np, labels\n",
        "\n",
        "train_features, train_labels = transform_from_torch_to_numpy(train_data)\n",
        "test_features, test_labels = transform_from_torch_to_numpy(test_data)\n",
        "\n",
        "import matplotlib.pyplot as plt\n",
        "figure = plt.figure(figsize=(3, 3))\n",
        "x = np.resize(train_features[0], (28, 28))\n",
        "plt.imshow(x, cmap='gray')\n",
        "plt.show()"
      ],
      "metadata": {
        "colab": {
          "base_uri": "https://localhost:8080/",
          "height": 293
        },
        "id": "1uf8jnNwYsr6",
        "outputId": "a7f9dfd4-7773-44d5-e33c-f6e3e5bcb5b8"
      },
      "execution_count": 28,
      "outputs": [
        {
          "output_type": "display_data",
          "data": {
            "text/plain": [
              "<Figure size 300x300 with 1 Axes>"
            ],
            "image/png": "[encoded data removed]"
          },
          "metadata": {}
        }
      ]
    },
    {
      "cell_type": "code",
      "source": [
        "def shuffle_dataset(n, batch_size):\n",
        "    idices= np.array(range(n))\n",
        "    np.random.shuffle(idices)\n",
        "    batch_sample_size = int((n - n % batch_size) / batch_size)\n",
        "    m = int(batch_size * batch_sample_size)\n",
        "    a = idices[0:m].reshape((batch_size, batch_sample_size))\n",
        "    b = idices[m:].reshape((1, n % batch_size))\n",
        "    return a\n",
        "\n",
        "def get_precision(predict, y):\n",
        "    a = np.argmax(predict, axis=1)\n",
        "    b = np.argmax(y, axis=1)\n",
        "    print(np.sum(a == b) / y.shape[0])"
      ],
      "metadata": {
        "id": "33HkYc9UvLGO"
      },
      "execution_count": 29,
      "outputs": []
    },
    {
      "cell_type": "code",
      "source": [
        "# Re implement simple DNN\n",
        "sigmoid = lambda a: 1.0 / (1.0 + np.exp(-a))\n",
        "\n",
        "# array / vector  very carefully\n",
        "softmax = lambda a: np.exp(a) / (np.sum(np.exp(a), axis=1)[:, np.newaxis])\n",
        "\n",
        "class Linear:\n",
        "    def __init__(self, in_size, out_size = 1):\n",
        "        self.in_size = in_size + 1\n",
        "        self.out_size = out_size\n",
        "        self.X = None\n",
        "        self.W = np.random.uniform(-1., 1., size=(self.in_size, self.out_size))\n",
        "        self.dL_by_dW = None\n",
        "\n",
        "    def forward(self, X):\n",
        "        self.X = np.concatenate((X, np.ones((X.shape[0], 1))), axis=1)\n",
        "        Z = self.X.dot(self.W)\n",
        "        return Z\n",
        "\n",
        "    def backward(self, dL_by_dZ):\n",
        "        m = dL_by_dZ.shape[0]\n",
        "        # Matrix Z = XW   X(m, n+1) W(n+1, out) Z(m, out)\n",
        "        # dL/dZ = (m, out) dZ/dX = W.T  (out, n+1)  dZ/dW = X.T (n+1, m)\n",
        "        # dL/dW = dZ/dW * dL/dZ  (n+1, out)\n",
        "        # dL/dX = dL/dZ * dZ/dX  (m, n+1)\n",
        "\n",
        "        # backward dL/dX and record dL/dW\n",
        "        dZ_by_dW = self.X.T  #(n+1, m)\n",
        "        dZ_by_dX = self.W.T  #(out, n+1)\n",
        "        dL_by_dX = dL_by_dZ.dot(dZ_by_dX) #(m, n+1)\n",
        "        #dZ/dW = X.T (n+1, m) .dot dL/dZ = (m, out)\n",
        "        self.dL_by_dW = dZ_by_dW.dot(dL_by_dZ) / m #(n+1, out)\n",
        "        return dL_by_dX[:, :-1]\n",
        "\n",
        "    def predict(self, X):\n",
        "        X = np.concatenate((X, np.ones((X.shape[0], 1))), axis=1)\n",
        "        Z = X.dot(self.W)\n",
        "        return Z\n",
        "\n",
        "    def update_weights(self, learning_rate):\n",
        "        self.W = self.W - self.dL_by_dW * learning_rate\n",
        "\n",
        "\n",
        "class Sigmoid_Active_Function:\n",
        "    def __init__(self):\n",
        "        self.active_function = sigmoid\n",
        "        self.H = None\n",
        "\n",
        "    def forward(self, X):\n",
        "        self.H = self.active_function(X)\n",
        "        return self.H\n",
        "\n",
        "    def backward(self, up_gradient):\n",
        "        self.local_gradient = (1 - self.H) * self.H\n",
        "        down_gradient = up_gradient * self.local_gradient\n",
        "        return down_gradient\n",
        "\n",
        "    def predict(self, X):\n",
        "        H = self.active_function(X)\n",
        "        return H\n",
        "\n",
        "    def update_weights(self, learning_rate):\n",
        "        return\n",
        "\n",
        "class Cross_Entropy_Loss:\n",
        "    def __init__(self):\n",
        "        self.process_function = softmax\n",
        "\n",
        "    def forward(self, Z, Y):\n",
        "        #self.Y_hat = self.process_function(Z)\n",
        "        self.Y_hat = Z\n",
        "        #print(self.Y_hat[0])\n",
        "        self.loss = -1. * np.sum(Y * np.log(self.Y_hat, where= self.Y_hat != 0)) #KL divergence\n",
        "        #print(self.loss)\n",
        "        return self.Y_hat, self.loss\n",
        "\n",
        "    def backward(self, Y):\n",
        "        # Math provement\n",
        "        self.dL_by_dZ = self.Y_hat - Y\n",
        "        return self.dL_by_dZ\n",
        "\n",
        "class Operator_Packager:\n",
        "    def __init__(self, operator_list):\n",
        "        self.operator_list = operator_list\n",
        "\n",
        "    def forward(self, X):\n",
        "        Z = X\n",
        "        size = len(self.operator_list)\n",
        "        for i in range(size):\n",
        "            Z = self.operator_list[i].forward(Z)\n",
        "        return Z\n",
        "\n",
        "    def backward(self, E):\n",
        "        d = E\n",
        "        size = len(self.operator_list)\n",
        "        for i in range(size):\n",
        "            index = size - 1 - i\n",
        "            d = self.operator_list[index].backward(d)\n",
        "        return d\n",
        "\n",
        "    def predict(self, X):\n",
        "        Z = X\n",
        "        size = len(self.operator_list)\n",
        "        for i in range(size):\n",
        "            Z = self.operator_list[i].predict(Z)\n",
        "        #Y_hat = softmax(Z)\n",
        "        Y_hat = Z\n",
        "        return Y_hat\n",
        "\n",
        "    def update_weights(self, learning_rate):\n",
        "        size = len(self.operator_list)\n",
        "        for i in range(size):\n",
        "            self.operator_list[i].update_weights(learning_rate)\n"
      ],
      "metadata": {
        "id": "mrG66EpVpLW9"
      },
      "execution_count": 30,
      "outputs": []
    },
    {
      "cell_type": "code",
      "source": [
        "class VAE:\n",
        "    def __init__(self, size_of_features, size_of_bottle):\n",
        "        self.model = Operator_Packager([\n",
        "            Linear(size_of_features, 100),\n",
        "            Sigmoid_Active_Function(),\n",
        "            Linear(100, 50),\n",
        "            Sigmoid_Active_Function(),\n",
        "            Linear(50, size_of_bottle),\n",
        "            Linear(size_of_bottle, 50),\n",
        "            Sigmoid_Active_Function(),\n",
        "            Linear(50, 100),\n",
        "            Sigmoid_Active_Function(),\n",
        "            Linear(100, size_of_features),\n",
        "            Sigmoid_Active_Function()\n",
        "        ])\n",
        "        self.bottle_layer = 3\n",
        "\n",
        "    def forward(self, X):\n",
        "        Z = self.model.forward(X)\n",
        "        return Z\n",
        "\n",
        "    def backward(self, E):\n",
        "        d = self.model.backward(E)\n",
        "        return d\n",
        "\n",
        "    def predict(self, X):\n",
        "        Y = self.model.predict(X)\n",
        "        return Y\n",
        "\n",
        "    def update_weights(self, learning_rate):\n",
        "        self.model.update_weights(learning_rate)\n",
        "\n",
        "    def encode(self, X):\n",
        "        Z = X\n",
        "        for i in range(self.bottle_layer):\n",
        "            Z = self.model.operator_list[i].predict(Z)\n",
        "        return Z\n",
        "\n",
        "    def decode(self, Z):\n",
        "        X = Z\n",
        "        for i in range(self.bottle_layer, len(self.model.operator_list)):\n",
        "            X = self.model.operator_list[i].predict(X)\n",
        "        return X"
      ],
      "metadata": {
        "id": "Ipasw1YQs8Eu"
      },
      "execution_count": 36,
      "outputs": []
    },
    {
      "cell_type": "code",
      "source": [
        "demo_vae = VAE(28*28, 32)\n",
        "loss = Cross_Entropy_Loss()\n",
        "\n",
        "epochs = 200\n",
        "m = train_labels.shape[0]\n",
        "\n",
        "for t in range(epochs):\n",
        "    if t % 10 == 0:\n",
        "        print(f\"Epoch {t+1}\\n-------------------------------\")\n",
        "\n",
        "    batch_size = 60\n",
        "    batch_matrix = shuffle_dataset(m, batch_size)\n",
        "\n",
        "    l = 0.\n",
        "    for batch_id in range(batch_size):\n",
        "        batch_index = batch_matrix[batch_id, :]\n",
        "        X = train_features[batch_index, :]\n",
        "        Y = train_features[batch_index, :]\n",
        "\n",
        "        Z = demo_vae.forward(X)\n",
        "        #print(Z.shape)\n",
        "        predicts, l = loss.forward(Z, Y)\n",
        "\n",
        "        dL_by_dZ = loss.backward(Y)\n",
        "        dL_by_dW = demo_vae.backward(dL_by_dZ)\n",
        "\n",
        "        demo_vae.update_weights(learning_rate = 10.)\n",
        "\n",
        "    print('t:', t+1, ' loss :', l)\n",
        "\n",
        "    if (t % 51 == 0):\n",
        "        X = test_features\n",
        "        Y = demo_vae.predict(X)\n",
        "        encode1 = np.resize(X[0], (28, 28))\n",
        "        decode1 = np.resize(Y[0], (28, 28))\n",
        "\n",
        "        figure = plt.figure(figsize=(3, 3))\n",
        "        plt.imshow(encode1, cmap='gray')\n",
        "        plt.show()\n",
        "\n",
        "        figure = plt.figure(figsize=(3, 3))\n",
        "        plt.imshow(decode1, cmap='gray')\n",
        "        plt.show()"
      ],
      "metadata": {
        "colab": {
          "base_uri": "https://localhost:8080/",
          "height": 1000
        },
        "id": "InjWlF3Rs2s6",
        "outputId": "99ef5ed0-f360-4ebe-afdd-016812496170"
      },
      "execution_count": 37,
      "outputs": [
        {
          "output_type": "stream",
          "name": "stdout",
          "text": [
            "Epoch 1\n",
            "-------------------------------\n"
          ]
        },
        {
          "output_type": "stream",
          "name": "stderr",
          "text": [
            "<ipython-input-30-a9de973eb501>:2: RuntimeWarning: overflow encountered in exp\n",
            "  sigmoid = lambda a: 1.0 / (1.0 + np.exp(-a))\n"
          ]
        },
        {
          "output_type": "stream",
          "name": "stdout",
          "text": [
            "t: 1  loss : 806504.2882050275\n"
          ]
        },
        {
          "output_type": "display_data",
          "data": {
            "text/plain": [
              "<Figure size 300x300 with 1 Axes>"
            ],
            "image/png": "[encoded data removed]"
          },
          "metadata": {}
        },
        {
          "output_type": "display_data",
          "data": {
            "text/plain": [
              "<Figure size 300x300 with 1 Axes>"
            ],
            "image/png": "[encoded data removed]"
          },
          "metadata": {}
        },
        {
          "output_type": "stream",
          "name": "stdout",
          "text": [
            "t: 2  loss : 756498.7314446381\n",
            "t: 3  loss : 721344.6631958071\n",
            "t: 4  loss : 673079.3991316344\n",
            "t: 5  loss : 655249.2648019714\n",
            "t: 6  loss : 627687.4449108017\n",
            "t: 7  loss : 627282.5377366787\n",
            "t: 8  loss : 580085.6151037234\n",
            "t: 9  loss : 565636.9319733912\n",
            "t: 10  loss : 574604.8437497246\n",
            "Epoch 11\n",
            "-------------------------------\n",
            "t: 11  loss : 558389.6199434838\n",
            "t: 12  loss : 554892.0642827125\n",
            "t: 13  loss : 565514.2157653398\n",
            "t: 14  loss : 514755.9081810318\n",
            "t: 15  loss : 509051.2025464524\n",
            "t: 16  loss : 505732.83577826404\n",
            "t: 17  loss : 517741.3746578655\n",
            "t: 18  loss : 509768.7066737551\n",
            "t: 19  loss : 492278.08979077725\n",
            "t: 20  loss : 507015.86851263547\n",
            "Epoch 21\n",
            "-------------------------------\n",
            "t: 21  loss : 499439.3937700051\n",
            "t: 22  loss : 481874.8999349138\n",
            "t: 23  loss : 503426.8458941773\n",
            "t: 24  loss : 524586.0531074759\n",
            "t: 25  loss : 525375.2141624619\n",
            "t: 26  loss : 489489.49088752596\n",
            "t: 27  loss : 474641.3261750381\n",
            "t: 28  loss : 475500.3956300059\n",
            "t: 29  loss : 455353.411226565\n",
            "t: 30  loss : 453741.4899414519\n",
            "Epoch 31\n",
            "-------------------------------\n",
            "t: 31  loss : 466795.3909077626\n",
            "t: 32  loss : 476989.3324712269\n",
            "t: 33  loss : 470626.1425119672\n",
            "t: 34  loss : 466302.5226282719\n",
            "t: 35  loss : 451200.175178943\n",
            "t: 36  loss : 459668.65084692405\n",
            "t: 37  loss : 462586.70421424037\n",
            "t: 38  loss : 469774.2717712721\n",
            "t: 39  loss : 456942.48852857656\n",
            "t: 40  loss : 473320.75678493123\n",
            "Epoch 41\n",
            "-------------------------------\n",
            "t: 41  loss : 447259.7013303832\n",
            "t: 42  loss : 458841.2115771321\n",
            "t: 43  loss : 451203.88790168654\n",
            "t: 44  loss : 470661.85496009147\n",
            "t: 45  loss : 461314.8517765617\n",
            "t: 46  loss : 461950.74296035187\n",
            "t: 47  loss : 472410.1828378739\n",
            "t: 48  loss : 457968.1521271822\n",
            "t: 49  loss : 477937.4827735546\n",
            "t: 50  loss : 446493.5922812465\n",
            "Epoch 51\n",
            "-------------------------------\n",
            "t: 51  loss : 461396.7672392137\n",
            "t: 52  loss : 451197.8855027633\n"
          ]
        },
        {
          "output_type": "display_data",
          "data": {
            "text/plain": [
              "<Figure size 300x300 with 1 Axes>"
            ],
            "image/png": "[encoded data removed]"
          },
          "metadata": {}
        },
        {
          "output_type": "display_data",
          "data": {
            "text/plain": [
              "<Figure size 300x300 with 1 Axes>"
            ],
            "image/png": "[encoded data removed]"
          },
          "metadata": {}
        },
        {
          "output_type": "stream",
          "name": "stdout",
          "text": [
            "t: 53  loss : 401776.2856934735\n",
            "t: 54  loss : 410868.9768970811\n",
            "t: 55  loss : 391024.36010101705\n",
            "t: 56  loss : 380461.5519483699\n",
            "t: 57  loss : 337481.30880619935\n",
            "t: 58  loss : 356552.08242176677\n",
            "t: 59  loss : 371997.79414415086\n",
            "t: 60  loss : 360787.3675398923\n",
            "Epoch 61\n",
            "-------------------------------\n",
            "t: 61  loss : 353133.3432978254\n",
            "t: 62  loss : 337600.2232894841\n",
            "t: 63  loss : 352728.5220521769\n",
            "t: 64  loss : 343553.1827200631\n",
            "t: 65  loss : 326745.4929888188\n",
            "t: 66  loss : 306730.22010415833\n",
            "t: 67  loss : 292344.36676823534\n",
            "t: 68  loss : 315033.88202793425\n",
            "t: 69  loss : 296833.52056338097\n",
            "t: 70  loss : 306641.8665749533\n",
            "Epoch 71\n",
            "-------------------------------\n",
            "t: 71  loss : 302581.4190447806\n",
            "t: 72  loss : 299280.04055976926\n",
            "t: 73  loss : 301522.01112307573\n",
            "t: 74  loss : 304483.7545064882\n",
            "t: 75  loss : 294714.33330048464\n",
            "t: 76  loss : 296389.35992576444\n",
            "t: 77  loss : 292326.45303518826\n",
            "t: 78  loss : 289964.9323528395\n",
            "t: 79  loss : 314858.2854430358\n",
            "t: 80  loss : 278157.2126308047\n",
            "Epoch 81\n",
            "-------------------------------\n",
            "t: 81  loss : 282832.74012194294\n",
            "t: 82  loss : 307991.6513248216\n",
            "t: 83  loss : 287945.54799804883\n",
            "t: 84  loss : 271324.84242535307\n",
            "t: 85  loss : 289305.536448637\n",
            "t: 86  loss : 282741.74820400024\n",
            "t: 87  loss : 289410.6996676822\n",
            "t: 88  loss : 298258.1677268961\n",
            "t: 89  loss : 292729.12294191215\n",
            "t: 90  loss : 272584.8370770104\n",
            "Epoch 91\n",
            "-------------------------------\n",
            "t: 91  loss : 288187.81166213745\n",
            "t: 92  loss : 287558.92848747247\n",
            "t: 93  loss : 284734.1434722431\n",
            "t: 94  loss : 299716.657156395\n",
            "t: 95  loss : 284990.6284653182\n",
            "t: 96  loss : 280831.22895211756\n",
            "t: 97  loss : 283399.163770303\n",
            "t: 98  loss : 282433.93911155476\n",
            "t: 99  loss : 300304.5098942753\n",
            "t: 100  loss : 277368.67337965785\n",
            "Epoch 101\n",
            "-------------------------------\n",
            "t: 101  loss : 278655.6642039896\n",
            "t: 102  loss : 286922.20832922903\n",
            "t: 103  loss : 271464.6375691999\n"
          ]
        },
        {
          "output_type": "display_data",
          "data": {
            "text/plain": [
              "<Figure size 300x300 with 1 Axes>"
            ],
            "image/png": "[encoded data removed]"
          },
          "metadata": {}
        },
        {
          "output_type": "display_data",
          "data": {
            "text/plain": [
              "<Figure size 300x300 with 1 Axes>"
            ],
            "image/png": "[encoded data removed]"
          },
          "metadata": {}
        },
        {
          "output_type": "stream",
          "name": "stdout",
          "text": [
            "t: 104  loss : 279534.30097332975\n",
            "t: 105  loss : 293550.39469991915\n",
            "t: 106  loss : 296302.7648252439\n",
            "t: 107  loss : 281293.5848360957\n"
          ]
        },
        {
          "output_type": "error",
          "ename": "KeyboardInterrupt",
          "evalue": "ignored",
          "traceback": [
            "\u001b[0;31m---------------------------------------------------------------------------\u001b[0m",
            "\u001b[0;31mKeyboardInterrupt\u001b[0m                         Traceback (most recent call last)",
            "\u001b[0;32m<ipython-input-37-1459cd267175>\u001b[0m in \u001b[0;36m<cell line: 7>\u001b[0;34m()\u001b[0m\n\u001b[1;32m     23\u001b[0m \u001b[0;34m\u001b[0m\u001b[0m\n\u001b[1;32m     24\u001b[0m         \u001b[0mdL_by_dZ\u001b[0m \u001b[0;34m=\u001b[0m \u001b[0mloss\u001b[0m\u001b[0;34m.\u001b[0m\u001b[0mbackward\u001b[0m\u001b[0;34m(\u001b[0m\u001b[0mY\u001b[0m\u001b[0;34m)\u001b[0m\u001b[0;34m\u001b[0m\u001b[0;34m\u001b[0m\u001b[0m\n\u001b[0;32m---> 25\u001b[0;31m         \u001b[0mdL_by_dW\u001b[0m \u001b[0;34m=\u001b[0m \u001b[0mdemo_vae\u001b[0m\u001b[0;34m.\u001b[0m\u001b[0mbackward\u001b[0m\u001b[0;34m(\u001b[0m\u001b[0mdL_by_dZ\u001b[0m\u001b[0;34m)\u001b[0m\u001b[0;34m\u001b[0m\u001b[0;34m\u001b[0m\u001b[0m\n\u001b[0m\u001b[1;32m     26\u001b[0m \u001b[0;34m\u001b[0m\u001b[0m\n\u001b[1;32m     27\u001b[0m         \u001b[0mdemo_vae\u001b[0m\u001b[0;34m.\u001b[0m\u001b[0mupdate_weights\u001b[0m\u001b[0;34m(\u001b[0m\u001b[0mlearning_rate\u001b[0m \u001b[0;34m=\u001b[0m \u001b[0;36m10.\u001b[0m\u001b[0;34m)\u001b[0m\u001b[0;34m\u001b[0m\u001b[0;34m\u001b[0m\u001b[0m\n",
            "\u001b[0;32m<ipython-input-36-4761da31aaeb>\u001b[0m in \u001b[0;36mbackward\u001b[0;34m(self, E)\u001b[0m\n\u001b[1;32m     21\u001b[0m \u001b[0;34m\u001b[0m\u001b[0m\n\u001b[1;32m     22\u001b[0m     \u001b[0;32mdef\u001b[0m \u001b[0mbackward\u001b[0m\u001b[0;34m(\u001b[0m\u001b[0mself\u001b[0m\u001b[0;34m,\u001b[0m \u001b[0mE\u001b[0m\u001b[0;34m)\u001b[0m\u001b[0;34m:\u001b[0m\u001b[0;34m\u001b[0m\u001b[0;34m\u001b[0m\u001b[0m\n\u001b[0;32m---> 23\u001b[0;31m         \u001b[0md\u001b[0m \u001b[0;34m=\u001b[0m \u001b[0mself\u001b[0m\u001b[0;34m.\u001b[0m\u001b[0mmodel\u001b[0m\u001b[0;34m.\u001b[0m\u001b[0mbackward\u001b[0m\u001b[0;34m(\u001b[0m\u001b[0mE\u001b[0m\u001b[0;34m)\u001b[0m\u001b[0;34m\u001b[0m\u001b[0;34m\u001b[0m\u001b[0m\n\u001b[0m\u001b[1;32m     24\u001b[0m         \u001b[0;32mreturn\u001b[0m \u001b[0md\u001b[0m\u001b[0;34m\u001b[0m\u001b[0;34m\u001b[0m\u001b[0m\n\u001b[1;32m     25\u001b[0m \u001b[0;34m\u001b[0m\u001b[0m\n",
            "\u001b[0;32m<ipython-input-30-a9de973eb501>\u001b[0m in \u001b[0;36mbackward\u001b[0;34m(self, E)\u001b[0m\n\u001b[1;32m     96\u001b[0m         \u001b[0;32mfor\u001b[0m \u001b[0mi\u001b[0m \u001b[0;32min\u001b[0m \u001b[0mrange\u001b[0m\u001b[0;34m(\u001b[0m\u001b[0msize\u001b[0m\u001b[0;34m)\u001b[0m\u001b[0;34m:\u001b[0m\u001b[0;34m\u001b[0m\u001b[0;34m\u001b[0m\u001b[0m\n\u001b[1;32m     97\u001b[0m             \u001b[0mindex\u001b[0m \u001b[0;34m=\u001b[0m \u001b[0msize\u001b[0m \u001b[0;34m-\u001b[0m \u001b[0;36m1\u001b[0m \u001b[0;34m-\u001b[0m \u001b[0mi\u001b[0m\u001b[0;34m\u001b[0m\u001b[0;34m\u001b[0m\u001b[0m\n\u001b[0;32m---> 98\u001b[0;31m             \u001b[0md\u001b[0m \u001b[0;34m=\u001b[0m \u001b[0mself\u001b[0m\u001b[0;34m.\u001b[0m\u001b[0moperator_list\u001b[0m\u001b[0;34m[\u001b[0m\u001b[0mindex\u001b[0m\u001b[0;34m]\u001b[0m\u001b[0;34m.\u001b[0m\u001b[0mbackward\u001b[0m\u001b[0;34m(\u001b[0m\u001b[0md\u001b[0m\u001b[0;34m)\u001b[0m\u001b[0;34m\u001b[0m\u001b[0;34m\u001b[0m\u001b[0m\n\u001b[0m\u001b[1;32m     99\u001b[0m         \u001b[0;32mreturn\u001b[0m \u001b[0md\u001b[0m\u001b[0;34m\u001b[0m\u001b[0;34m\u001b[0m\u001b[0m\n\u001b[1;32m    100\u001b[0m \u001b[0;34m\u001b[0m\u001b[0m\n",
            "\u001b[0;32m<ipython-input-30-a9de973eb501>\u001b[0m in \u001b[0;36mbackward\u001b[0;34m(self, dL_by_dZ)\u001b[0m\n\u001b[1;32m     28\u001b[0m         \u001b[0mdZ_by_dW\u001b[0m \u001b[0;34m=\u001b[0m \u001b[0mself\u001b[0m\u001b[0;34m.\u001b[0m\u001b[0mX\u001b[0m\u001b[0;34m.\u001b[0m\u001b[0mT\u001b[0m  \u001b[0;31m#(n+1, m)\u001b[0m\u001b[0;34m\u001b[0m\u001b[0;34m\u001b[0m\u001b[0m\n\u001b[1;32m     29\u001b[0m         \u001b[0mdZ_by_dX\u001b[0m \u001b[0;34m=\u001b[0m \u001b[0mself\u001b[0m\u001b[0;34m.\u001b[0m\u001b[0mW\u001b[0m\u001b[0;34m.\u001b[0m\u001b[0mT\u001b[0m  \u001b[0;31m#(out, n+1)\u001b[0m\u001b[0;34m\u001b[0m\u001b[0;34m\u001b[0m\u001b[0m\n\u001b[0;32m---> 30\u001b[0;31m         \u001b[0mdL_by_dX\u001b[0m \u001b[0;34m=\u001b[0m \u001b[0mdL_by_dZ\u001b[0m\u001b[0;34m.\u001b[0m\u001b[0mdot\u001b[0m\u001b[0;34m(\u001b[0m\u001b[0mdZ_by_dX\u001b[0m\u001b[0;34m)\u001b[0m \u001b[0;31m#(m, n+1)\u001b[0m\u001b[0;34m\u001b[0m\u001b[0;34m\u001b[0m\u001b[0m\n\u001b[0m\u001b[1;32m     31\u001b[0m         \u001b[0;31m#dZ/dW = X.T (n+1, m) .dot dL/dZ = (m, out)\u001b[0m\u001b[0;34m\u001b[0m\u001b[0;34m\u001b[0m\u001b[0m\n\u001b[1;32m     32\u001b[0m         \u001b[0mself\u001b[0m\u001b[0;34m.\u001b[0m\u001b[0mdL_by_dW\u001b[0m \u001b[0;34m=\u001b[0m \u001b[0mdZ_by_dW\u001b[0m\u001b[0;34m.\u001b[0m\u001b[0mdot\u001b[0m\u001b[0;34m(\u001b[0m\u001b[0mdL_by_dZ\u001b[0m\u001b[0;34m)\u001b[0m \u001b[0;34m/\u001b[0m \u001b[0mm\u001b[0m \u001b[0;31m#(n+1, out)\u001b[0m\u001b[0;34m\u001b[0m\u001b[0;34m\u001b[0m\u001b[0m\n",
            "\u001b[0;31mKeyboardInterrupt\u001b[0m: "
          ]
        }
      ]
    }
  ]
}