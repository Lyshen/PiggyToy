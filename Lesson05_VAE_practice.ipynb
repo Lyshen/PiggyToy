{
  "nbformat": 4,
  "nbformat_minor": 0,
  "metadata": {
    "colab": {
      "provenance": [],
      "authorship_tag": "ABX9TyNA1X5J4s+6KL6gJpwZ9lXG",
      "include_colab_link": true
    },
    "kernelspec": {
      "name": "python3",
      "display_name": "Python 3"
    },
    "language_info": {
      "name": "python"
    }
  },
  "cells": [
    {
      "cell_type": "markdown",
      "metadata": {
        "id": "view-in-github",
        "colab_type": "text"
      },
      "source": [
        "<a href=\"https://colab.research.google.com/github/Lyshen/PiggyToy/blob/main/Lesson05_VAE_practice.ipynb\" target=\"_parent\"><img src=\"https://colab.research.google.com/assets/colab-badge.svg\" alt=\"Open In Colab\"/></a>"
      ]
    },
    {
      "cell_type": "markdown",
      "source": [
        "# Lesson 5. Simple VAE excerise\n",
        "1. Re-use lesson 3's code\n",
        "2. Try to implement your simple VAE using the MNIST dataset\n",
        "3. Explore some simple ideas about the generative model\n",
        "4. Compare the results with Pytorch\n"
      ],
      "metadata": {
        "id": "vpv5f55rfdQL"
      }
    },
    {
      "cell_type": "code",
      "source": [
        "import numpy as np\n",
        "import torch\n",
        "from torch.utils.data import DataLoader\n",
        "from torchvision.datasets import MNIST\n",
        "import torchvision.transforms as transform"
      ],
      "metadata": {
        "id": "yDJZRguWf2ju"
      },
      "execution_count": 8,
      "outputs": []
    },
    {
      "cell_type": "code",
      "source": [
        "tt = transform.Compose([transform.ToTensor()])\n",
        "\n",
        "train_data = MNIST(root='./data', train=True, transform=tt, download=True)\n",
        "test_data = MNIST(root='./data', train=False, transform=tt)"
      ],
      "metadata": {
        "id": "3FrBz4bHXlSM"
      },
      "execution_count": 9,
      "outputs": []
    },
    {
      "cell_type": "code",
      "source": [
        "\n",
        "def transform_from_torch_to_numpy(torch_data):\n",
        "    features_np = torch_data.data.numpy()\n",
        "    labels_np = torch_data.targets.numpy()\n",
        "    print(features_np.shape)\n",
        "    print(labels_np.shape)\n",
        "\n",
        "    features_np = np.resize(features_np, (features_np.shape[0], features_np.shape[1] * features_np.shape[2]))\n",
        "    labels = np.zeros((labels_np.shape[0], 10))\n",
        "    for i in range(10):\n",
        "        labels[labels_np==i, i] = 1.\n",
        "    print(features_np.shape)\n",
        "    print(labels_np.shape)\n",
        "    print(labels[0:10])\n",
        "\n",
        "transform_from_torch_to_numpy(train_data)\n",
        "\n"
      ],
      "metadata": {
        "colab": {
          "base_uri": "https://localhost:8080/"
        },
        "id": "1uf8jnNwYsr6",
        "outputId": "c2e64c2e-ec52-40d5-f549-61fad33071de"
      },
      "execution_count": 12,
      "outputs": [
        {
          "output_type": "stream",
          "name": "stdout",
          "text": [
            "(60000, 28, 28)\n",
            "(60000,)\n",
            "(60000, 784)\n",
            "(60000,)\n",
            "[[0. 0. 0. 0. 0. 1. 0. 0. 0. 0.]\n",
            " [1. 0. 0. 0. 0. 0. 0. 0. 0. 0.]\n",
            " [0. 0. 0. 0. 1. 0. 0. 0. 0. 0.]\n",
            " [0. 1. 0. 0. 0. 0. 0. 0. 0. 0.]\n",
            " [0. 0. 0. 0. 0. 0. 0. 0. 0. 1.]\n",
            " [0. 0. 1. 0. 0. 0. 0. 0. 0. 0.]\n",
            " [0. 1. 0. 0. 0. 0. 0. 0. 0. 0.]\n",
            " [0. 0. 0. 1. 0. 0. 0. 0. 0. 0.]\n",
            " [0. 1. 0. 0. 0. 0. 0. 0. 0. 0.]\n",
            " [0. 0. 0. 0. 1. 0. 0. 0. 0. 0.]]\n"
          ]
        }
      ]
    }
  ]
}